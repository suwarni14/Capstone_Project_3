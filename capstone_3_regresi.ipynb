{
  "cells": [
    {
      "cell_type": "code",
      "execution_count": 1,
      "metadata": {
        "id": "0zxtiQHqzWgD"
      },
      "outputs": [],
      "source": [
        "import pandas as pd\n",
        "import numpy as np\n",
        "import matplotlib.pyplot as plt\n",
        "import seaborn as sns\n",
        "import plotly.express as px\n",
        "from sklearn.ensemble import VotingRegressor, StackingRegressor, RandomForestRegressor\n",
        "from sklearn.metrics import  mean_squared_error, mean_absolute_error, mean_absolute_percentage_error\n",
        "from sklearn.model_selection import train_test_split\n",
        "\n",
        "from sklearn.preprocessing import OneHotEncoder\n",
        "from sklearn.compose import ColumnTransformer\n",
        "from sklearn.pipeline import Pipeline\n",
        "from sklearn.impute import SimpleImputer\n",
        "from sklearn.experimental import enable_iterative_imputer\n",
        "from sklearn.impute import IterativeImputer\n",
        "from sklearn import metrics\n",
        "\n",
        "from sklearn.linear_model import LinearRegression, Lasso, Ridge\n",
        "from sklearn.neighbors import KNeighborsRegressor\n",
        "from sklearn.tree import DecisionTreeRegressor\n",
        "from sklearn.model_selection import cross_val_score, StratifiedKFold\n",
        "from sklearn.preprocessing import StandardScaler, RobustScaler\n",
        "from sklearn.model_selection import GridSearchCV, RandomizedSearchCV\n",
        "from sklearn.ensemble import AdaBoostRegressor, GradientBoostingRegressor\n",
        "\n",
        "import warnings\n",
        "warnings.filterwarnings('ignore')"
      ]
    },
    {
      "cell_type": "markdown",
      "metadata": {
        "id": "6PK3Cw0nzWgI"
      },
      "source": [
        "## Data Daegu Apartment"
      ]
    },
    {
      "cell_type": "markdown",
      "metadata": {
        "id": "3M9ih_N4zWgP"
      },
      "source": [
        "[Sumber data Daegu Apartment](https://www.kaggle.com/datasets/gunhee/koreahousedata/versions/1) \n",
        "\n",
        "### **Contents**\n",
        "\n",
        "1. Business Problem Understanding\n",
        "2. Data Understanding\n",
        "3. Modeling\n",
        "4. Conclusion\n",
        "5. Recommendation\n",
        "\n",
        "****"
      ]
    },
    {
      "cell_type": "markdown",
      "metadata": {
        "id": "E2CVDgYNzWgQ"
      },
      "source": [
        "### **1. Business Problem Understanding**"
      ]
    },
    {
      "cell_type": "markdown",
      "metadata": {
        "id": "Cas65uNhzWgR"
      },
      "source": [
        "#### Problem Statement\n",
        "\n",
        "Kendala yang dihadapi oleh perusahaan adalah user yang menjual properti dengan harga yang tidak sesuai dengan jangkauan pasar dan fasilitas yang diberikan sehingga menganggu estimasi harga jual pada website perusahaan. Dimana estimasi harga jual tidak boleh terlalu tinggi (tidak sesuai dengan fasilitas dan strategis lokasi) ataupun terlalu rendah (merugikan user yang memasang iklan). Sebagai bentuk solusi, diperlukan data scientist untuk menentukan harga yang optimal bagi user yang menjual properti di website perusahaan sebagai estimasi harga jual yang ideal."
      ]
    },
    {
      "cell_type": "markdown",
      "metadata": {
        "id": "EWp1tLkLNScf"
      },
      "source": [
        "#### Goals\n",
        "\n",
        "Berdasarkan dari masalah tersebut, perusahaan tentu perlu memiliki 'tool' yang dapat memprediksi serta membantu user untuk menentukan harga jual properti (apartment) dengan harga yang tepat dan sesuai."
      ]
    },
    {
      "cell_type": "markdown",
      "metadata": {
        "id": "zMv1KnNvzWgU"
      },
      "source": [
        "#### Analytic Approach\n",
        "\n",
        "Hal yang perlu dilakukan yaitu menganalisis data dan membuat model regresi yang akan membantu perusahaan untuk menyediakan 'tool' prediksi harga jual properti (apartment) di daerah Daegu. \n",
        " "
      ]
    },
    {
      "cell_type": "markdown",
      "metadata": {
        "id": "BUqjnNf7zWgU"
      },
      "source": [
        "#### Metric Evaluation\n",
        "\n",
        "Evaluasi metrik yang akan digunakan adalah RMSE, MAE, dan MAPE. RMSE adalah jumlah dari kesalahan kuadrat atau selisih antara nilai sebenarnya dengan nilai prediksi yang telah ditentukan, MAE menunjukkan nilai kesalahan rata-rata yang error dari nilai sebenarnya dengan nilai prediksi, sedangkan MAPE adalah  lanjutan dari penentuan nilai MAE dengan menentukan nilai presentase yang dihasilkan. Semakin kecil nilai RMSE, MAE, dan MAPE yang dihasilkan, berarti model semakin akurat dalam memprediksi harga jual sesuai dengan limitasi fitur yang digunakan. "
      ]
    },
    {
      "cell_type": "markdown",
      "metadata": {
        "id": "MpZ5BkGlzWgV"
      },
      "source": [
        "### **2. Data Understanding**"
      ]
    },
    {
      "cell_type": "markdown",
      "metadata": {
        "id": "AQkX_Z81zWgV"
      },
      "source": [
        "- Dataset merupakan detail real estate periode waktu dalam 10 tahun.\n",
        "- Setiap baris data merepresentasikan informasi terkait apartemen, fasilitas, dan harga.\n",
        "\n",
        "**Attributes Information**\n",
        "\n",
        "| **Attribute** | **Data Type** | **Description** |\n",
        "| --- | --- | --- |\n",
        "| HallwayType | Object | Tipe hallway |\n",
        "| TimeToSubway | Object | Waktu tempuh ke stasiun |\n",
        "| SubwayStation | Object | Nama stasiun  |\n",
        "| N_FacilitiesNearBy(ETC) | Float | Jumlah tol terdekat |\n",
        "| N_FacilitiesNearBy(PublicOffice) | Float | Jumlah perkantoran umum terdekat |\n",
        "| N_SchoolNearBy(University) | Float | Jumlah sekolah atau kampus terdekat |\n",
        "| N_Parkinglot(Basement) | Float | Jumlah tempat parkir |\n",
        "| YearBuilt | Integer | Tahun dibangun |\n",
        "| N_FacilitiesInApt | Integer | Jumlah fasilitas yang ada di apartemen |\n",
        "| Size(sqf) | Integer | Luas apartemen |\n",
        "| SalePrice | Integer | Harga apartemen dalam dollar |\n",
        "\n",
        "<br>"
      ]
    },
    {
      "cell_type": "markdown",
      "metadata": {
        "id": "EV7xGaQjzWgW"
      },
      "source": [
        "#### Data Cleaning"
      ]
    },
    {
      "cell_type": "code",
      "execution_count": 2,
      "metadata": {
        "colab": {
          "base_uri": "https://localhost:8080/",
          "height": 270
        },
        "id": "7nDDuLAVzWgX",
        "outputId": "e01fa482-ad6a-4d69-dfd3-b057f3665710"
      },
      "outputs": [
        {
          "data": {
            "text/html": [
              "<div>\n",
              "<style scoped>\n",
              "    .dataframe tbody tr th:only-of-type {\n",
              "        vertical-align: middle;\n",
              "    }\n",
              "\n",
              "    .dataframe tbody tr th {\n",
              "        vertical-align: top;\n",
              "    }\n",
              "\n",
              "    .dataframe thead th {\n",
              "        text-align: right;\n",
              "    }\n",
              "</style>\n",
              "<table border=\"1\" class=\"dataframe\">\n",
              "  <thead>\n",
              "    <tr style=\"text-align: right;\">\n",
              "      <th></th>\n",
              "      <th>HallwayType</th>\n",
              "      <th>TimeToSubway</th>\n",
              "      <th>SubwayStation</th>\n",
              "      <th>N_FacilitiesNearBy(ETC)</th>\n",
              "      <th>N_FacilitiesNearBy(PublicOffice)</th>\n",
              "      <th>N_SchoolNearBy(University)</th>\n",
              "      <th>N_Parkinglot(Basement)</th>\n",
              "      <th>YearBuilt</th>\n",
              "      <th>N_FacilitiesInApt</th>\n",
              "      <th>Size(sqf)</th>\n",
              "      <th>SalePrice</th>\n",
              "    </tr>\n",
              "  </thead>\n",
              "  <tbody>\n",
              "    <tr>\n",
              "      <th>0</th>\n",
              "      <td>terraced</td>\n",
              "      <td>0-5min</td>\n",
              "      <td>Kyungbuk_uni_hospital</td>\n",
              "      <td>0.0</td>\n",
              "      <td>3.0</td>\n",
              "      <td>2.0</td>\n",
              "      <td>1270.0</td>\n",
              "      <td>2007</td>\n",
              "      <td>10</td>\n",
              "      <td>1387</td>\n",
              "      <td>346017</td>\n",
              "    </tr>\n",
              "    <tr>\n",
              "      <th>1</th>\n",
              "      <td>terraced</td>\n",
              "      <td>10min~15min</td>\n",
              "      <td>Kyungbuk_uni_hospital</td>\n",
              "      <td>1.0</td>\n",
              "      <td>5.0</td>\n",
              "      <td>1.0</td>\n",
              "      <td>0.0</td>\n",
              "      <td>1986</td>\n",
              "      <td>4</td>\n",
              "      <td>914</td>\n",
              "      <td>150442</td>\n",
              "    </tr>\n",
              "    <tr>\n",
              "      <th>2</th>\n",
              "      <td>mixed</td>\n",
              "      <td>15min~20min</td>\n",
              "      <td>Chil-sung-market</td>\n",
              "      <td>1.0</td>\n",
              "      <td>7.0</td>\n",
              "      <td>3.0</td>\n",
              "      <td>56.0</td>\n",
              "      <td>1997</td>\n",
              "      <td>5</td>\n",
              "      <td>558</td>\n",
              "      <td>61946</td>\n",
              "    </tr>\n",
              "    <tr>\n",
              "      <th>3</th>\n",
              "      <td>mixed</td>\n",
              "      <td>5min~10min</td>\n",
              "      <td>Bangoge</td>\n",
              "      <td>5.0</td>\n",
              "      <td>5.0</td>\n",
              "      <td>4.0</td>\n",
              "      <td>798.0</td>\n",
              "      <td>2005</td>\n",
              "      <td>7</td>\n",
              "      <td>914</td>\n",
              "      <td>165486</td>\n",
              "    </tr>\n",
              "    <tr>\n",
              "      <th>4</th>\n",
              "      <td>terraced</td>\n",
              "      <td>0-5min</td>\n",
              "      <td>Sin-nam</td>\n",
              "      <td>0.0</td>\n",
              "      <td>1.0</td>\n",
              "      <td>2.0</td>\n",
              "      <td>536.0</td>\n",
              "      <td>2006</td>\n",
              "      <td>5</td>\n",
              "      <td>1743</td>\n",
              "      <td>311504</td>\n",
              "    </tr>\n",
              "  </tbody>\n",
              "</table>\n",
              "</div>"
            ],
            "text/plain": [
              "  HallwayType TimeToSubway          SubwayStation  N_FacilitiesNearBy(ETC)  \\\n",
              "0    terraced       0-5min  Kyungbuk_uni_hospital                      0.0   \n",
              "1    terraced  10min~15min  Kyungbuk_uni_hospital                      1.0   \n",
              "2       mixed  15min~20min       Chil-sung-market                      1.0   \n",
              "3       mixed   5min~10min                Bangoge                      5.0   \n",
              "4    terraced       0-5min                Sin-nam                      0.0   \n",
              "\n",
              "   N_FacilitiesNearBy(PublicOffice)  N_SchoolNearBy(University)  \\\n",
              "0                               3.0                         2.0   \n",
              "1                               5.0                         1.0   \n",
              "2                               7.0                         3.0   \n",
              "3                               5.0                         4.0   \n",
              "4                               1.0                         2.0   \n",
              "\n",
              "   N_Parkinglot(Basement)  YearBuilt  N_FacilitiesInApt  Size(sqf)  SalePrice  \n",
              "0                  1270.0       2007                 10       1387     346017  \n",
              "1                     0.0       1986                  4        914     150442  \n",
              "2                    56.0       1997                  5        558      61946  \n",
              "3                   798.0       2005                  7        914     165486  \n",
              "4                   536.0       2006                  5       1743     311504  "
            ]
          },
          "execution_count": 2,
          "metadata": {},
          "output_type": "execute_result"
        }
      ],
      "source": [
        "# Load dataset\n",
        "\n",
        "df = pd.read_csv('data_daegu_apartment.csv')\n",
        "df.head()"
      ]
    },
    {
      "cell_type": "code",
      "execution_count": 3,
      "metadata": {
        "colab": {
          "base_uri": "https://localhost:8080/"
        },
        "id": "sFi6vvIzVxAu",
        "outputId": "735ed940-cd81-4d82-bbe7-7522ac09e0e3"
      },
      "outputs": [
        {
          "name": "stdout",
          "output_type": "stream",
          "text": [
            "<class 'pandas.core.frame.DataFrame'>\n",
            "RangeIndex: 4123 entries, 0 to 4122\n",
            "Data columns (total 11 columns):\n",
            " #   Column                            Non-Null Count  Dtype  \n",
            "---  ------                            --------------  -----  \n",
            " 0   HallwayType                       4123 non-null   object \n",
            " 1   TimeToSubway                      4123 non-null   object \n",
            " 2   SubwayStation                     4123 non-null   object \n",
            " 3   N_FacilitiesNearBy(ETC)           4123 non-null   float64\n",
            " 4   N_FacilitiesNearBy(PublicOffice)  4123 non-null   float64\n",
            " 5   N_SchoolNearBy(University)        4123 non-null   float64\n",
            " 6   N_Parkinglot(Basement)            4123 non-null   float64\n",
            " 7   YearBuilt                         4123 non-null   int64  \n",
            " 8   N_FacilitiesInApt                 4123 non-null   int64  \n",
            " 9   Size(sqf)                         4123 non-null   int64  \n",
            " 10  SalePrice                         4123 non-null   int64  \n",
            "dtypes: float64(4), int64(4), object(3)\n",
            "memory usage: 354.4+ KB\n"
          ]
        }
      ],
      "source": [
        "# Cek info dataset\n",
        "\n",
        "df.info()"
      ]
    },
    {
      "cell_type": "code",
      "execution_count": 4,
      "metadata": {
        "colab": {
          "base_uri": "https://localhost:8080/",
          "height": 364
        },
        "id": "0k8dfritG1Zt",
        "outputId": "cb1ed0fb-9aca-4be1-8b8b-0d8e55c144e9"
      },
      "outputs": [
        {
          "data": {
            "text/html": [
              "<div>\n",
              "<style scoped>\n",
              "    .dataframe tbody tr th:only-of-type {\n",
              "        vertical-align: middle;\n",
              "    }\n",
              "\n",
              "    .dataframe tbody tr th {\n",
              "        vertical-align: top;\n",
              "    }\n",
              "\n",
              "    .dataframe thead th {\n",
              "        text-align: right;\n",
              "    }\n",
              "</style>\n",
              "<table border=\"1\" class=\"dataframe\">\n",
              "  <thead>\n",
              "    <tr style=\"text-align: right;\">\n",
              "      <th></th>\n",
              "      <th>N_FacilitiesNearBy(ETC)</th>\n",
              "      <th>N_FacilitiesNearBy(PublicOffice)</th>\n",
              "      <th>N_SchoolNearBy(University)</th>\n",
              "      <th>N_Parkinglot(Basement)</th>\n",
              "      <th>YearBuilt</th>\n",
              "      <th>N_FacilitiesInApt</th>\n",
              "      <th>Size(sqf)</th>\n",
              "      <th>SalePrice</th>\n",
              "    </tr>\n",
              "  </thead>\n",
              "  <tbody>\n",
              "    <tr>\n",
              "      <th>count</th>\n",
              "      <td>4123.000000</td>\n",
              "      <td>4123.000000</td>\n",
              "      <td>4123.000000</td>\n",
              "      <td>4123.000000</td>\n",
              "      <td>4123.000000</td>\n",
              "      <td>4123.000000</td>\n",
              "      <td>4123.000000</td>\n",
              "      <td>4123.000000</td>\n",
              "    </tr>\n",
              "    <tr>\n",
              "      <th>mean</th>\n",
              "      <td>1.930876</td>\n",
              "      <td>4.135338</td>\n",
              "      <td>2.746301</td>\n",
              "      <td>568.979141</td>\n",
              "      <td>2002.999757</td>\n",
              "      <td>5.817851</td>\n",
              "      <td>954.630851</td>\n",
              "      <td>221767.926995</td>\n",
              "    </tr>\n",
              "    <tr>\n",
              "      <th>std</th>\n",
              "      <td>2.198832</td>\n",
              "      <td>1.802640</td>\n",
              "      <td>1.496610</td>\n",
              "      <td>410.372742</td>\n",
              "      <td>8.905768</td>\n",
              "      <td>2.340507</td>\n",
              "      <td>383.805648</td>\n",
              "      <td>106739.839945</td>\n",
              "    </tr>\n",
              "    <tr>\n",
              "      <th>min</th>\n",
              "      <td>0.000000</td>\n",
              "      <td>0.000000</td>\n",
              "      <td>0.000000</td>\n",
              "      <td>0.000000</td>\n",
              "      <td>1978.000000</td>\n",
              "      <td>1.000000</td>\n",
              "      <td>135.000000</td>\n",
              "      <td>32743.000000</td>\n",
              "    </tr>\n",
              "    <tr>\n",
              "      <th>25%</th>\n",
              "      <td>0.000000</td>\n",
              "      <td>3.000000</td>\n",
              "      <td>2.000000</td>\n",
              "      <td>184.000000</td>\n",
              "      <td>1993.000000</td>\n",
              "      <td>4.000000</td>\n",
              "      <td>644.000000</td>\n",
              "      <td>144752.000000</td>\n",
              "    </tr>\n",
              "    <tr>\n",
              "      <th>50%</th>\n",
              "      <td>1.000000</td>\n",
              "      <td>5.000000</td>\n",
              "      <td>2.000000</td>\n",
              "      <td>536.000000</td>\n",
              "      <td>2006.000000</td>\n",
              "      <td>5.000000</td>\n",
              "      <td>910.000000</td>\n",
              "      <td>209734.000000</td>\n",
              "    </tr>\n",
              "    <tr>\n",
              "      <th>75%</th>\n",
              "      <td>5.000000</td>\n",
              "      <td>5.000000</td>\n",
              "      <td>4.000000</td>\n",
              "      <td>798.000000</td>\n",
              "      <td>2008.000000</td>\n",
              "      <td>7.000000</td>\n",
              "      <td>1149.000000</td>\n",
              "      <td>291150.000000</td>\n",
              "    </tr>\n",
              "    <tr>\n",
              "      <th>max</th>\n",
              "      <td>5.000000</td>\n",
              "      <td>7.000000</td>\n",
              "      <td>5.000000</td>\n",
              "      <td>1321.000000</td>\n",
              "      <td>2015.000000</td>\n",
              "      <td>10.000000</td>\n",
              "      <td>2337.000000</td>\n",
              "      <td>585840.000000</td>\n",
              "    </tr>\n",
              "  </tbody>\n",
              "</table>\n",
              "</div>"
            ],
            "text/plain": [
              "       N_FacilitiesNearBy(ETC)  N_FacilitiesNearBy(PublicOffice)  \\\n",
              "count              4123.000000                       4123.000000   \n",
              "mean                  1.930876                          4.135338   \n",
              "std                   2.198832                          1.802640   \n",
              "min                   0.000000                          0.000000   \n",
              "25%                   0.000000                          3.000000   \n",
              "50%                   1.000000                          5.000000   \n",
              "75%                   5.000000                          5.000000   \n",
              "max                   5.000000                          7.000000   \n",
              "\n",
              "       N_SchoolNearBy(University)  N_Parkinglot(Basement)    YearBuilt  \\\n",
              "count                 4123.000000             4123.000000  4123.000000   \n",
              "mean                     2.746301              568.979141  2002.999757   \n",
              "std                      1.496610              410.372742     8.905768   \n",
              "min                      0.000000                0.000000  1978.000000   \n",
              "25%                      2.000000              184.000000  1993.000000   \n",
              "50%                      2.000000              536.000000  2006.000000   \n",
              "75%                      4.000000              798.000000  2008.000000   \n",
              "max                      5.000000             1321.000000  2015.000000   \n",
              "\n",
              "       N_FacilitiesInApt    Size(sqf)      SalePrice  \n",
              "count        4123.000000  4123.000000    4123.000000  \n",
              "mean            5.817851   954.630851  221767.926995  \n",
              "std             2.340507   383.805648  106739.839945  \n",
              "min             1.000000   135.000000   32743.000000  \n",
              "25%             4.000000   644.000000  144752.000000  \n",
              "50%             5.000000   910.000000  209734.000000  \n",
              "75%             7.000000  1149.000000  291150.000000  \n",
              "max            10.000000  2337.000000  585840.000000  "
            ]
          },
          "execution_count": 4,
          "metadata": {},
          "output_type": "execute_result"
        }
      ],
      "source": [
        "df.describe()"
      ]
    },
    {
      "cell_type": "code",
      "execution_count": 5,
      "metadata": {
        "colab": {
          "base_uri": "https://localhost:8080/"
        },
        "id": "YtNQ5SX1VxA0",
        "outputId": "09743d9b-8399-415e-de3d-0171def667e2"
      },
      "outputs": [
        {
          "data": {
            "text/plain": [
              "HallwayType                         0\n",
              "TimeToSubway                        0\n",
              "SubwayStation                       0\n",
              "N_FacilitiesNearBy(ETC)             0\n",
              "N_FacilitiesNearBy(PublicOffice)    0\n",
              "N_SchoolNearBy(University)          0\n",
              "N_Parkinglot(Basement)              0\n",
              "YearBuilt                           0\n",
              "N_FacilitiesInApt                   0\n",
              "Size(sqf)                           0\n",
              "SalePrice                           0\n",
              "dtype: int64"
            ]
          },
          "execution_count": 5,
          "metadata": {},
          "output_type": "execute_result"
        }
      ],
      "source": [
        "# Cek nilai missing value\n",
        "\n",
        "df.isna().sum()"
      ]
    },
    {
      "cell_type": "markdown",
      "metadata": {
        "id": "sZwz6sRdzWga"
      },
      "source": [
        "Data ini tidak mempunyai missing value"
      ]
    },
    {
      "cell_type": "code",
      "execution_count": 6,
      "metadata": {
        "colab": {
          "base_uri": "https://localhost:8080/"
        },
        "id": "VSaSqv_5VxA1",
        "outputId": "f36b705c-cc04-4966-d24c-27ab4a6bf07f"
      },
      "outputs": [
        {
          "data": {
            "text/plain": [
              "False    2701\n",
              "True     1422\n",
              "dtype: int64"
            ]
          },
          "execution_count": 6,
          "metadata": {},
          "output_type": "execute_result"
        }
      ],
      "source": [
        "# Cek data duplikat\n",
        "\n",
        "df.duplicated().value_counts()"
      ]
    },
    {
      "cell_type": "markdown",
      "metadata": {
        "id": "qegMYAeCzWgb"
      },
      "source": [
        "Ternyata ada 1422 data duplikat"
      ]
    },
    {
      "cell_type": "code",
      "execution_count": 7,
      "metadata": {
        "id": "kx4Y138oVxA3"
      },
      "outputs": [],
      "source": [
        "# Drop data duplikat\n",
        "\n",
        "df = df[~df.duplicated(keep= 'first')]"
      ]
    },
    {
      "cell_type": "code",
      "execution_count": 8,
      "metadata": {
        "colab": {
          "base_uri": "https://localhost:8080/"
        },
        "id": "u4sM5Rr1VxA6",
        "outputId": "ed0c3d97-cad6-4818-856b-8780e3a74e6a"
      },
      "outputs": [
        {
          "data": {
            "text/plain": [
              "(2701, 11)"
            ]
          },
          "execution_count": 8,
          "metadata": {},
          "output_type": "execute_result"
        }
      ],
      "source": [
        "# Mengecek kembali jumlah data\n",
        "\n",
        "df.shape"
      ]
    },
    {
      "cell_type": "markdown",
      "metadata": {
        "id": "OPvv4SGRVxA-"
      },
      "source": [
        "- Kategorikal =  Barplot\n",
        "- Numerikal = Scatterplot"
      ]
    },
    {
      "cell_type": "markdown",
      "metadata": {
        "id": "hhxxehwAVxA_"
      },
      "source": [
        "#### Exploratory Data Analysis"
      ]
    },
    {
      "cell_type": "code",
      "execution_count": 9,
      "metadata": {
        "colab": {
          "base_uri": "https://localhost:8080/",
          "height": 299
        },
        "id": "ES7qqjQ6VxBA",
        "outputId": "4dff0906-e9a3-48ee-a7db-9f4094ec4ab6"
      },
      "outputs": [
        {
          "data": {
            "text/plain": [
              "<AxesSubplot:xlabel='HallwayType', ylabel='SalePrice'>"
            ]
          },
          "execution_count": 9,
          "metadata": {},
          "output_type": "execute_result"
        },
        {
          "data": {
            "image/png": "[encoded data removed]",
            "text/plain": [
              "<Figure size 432x288 with 1 Axes>"
            ]
          },
          "metadata": {
            "needs_background": "light"
          },
          "output_type": "display_data"
        }
      ],
      "source": [
        "sns.barplot(data=df, x='HallwayType', y='SalePrice')"
      ]
    },
    {
      "cell_type": "markdown",
      "metadata": {
        "id": "FAZyCHdrzWgq"
      },
      "source": [
        "Berdasarkan barplot diatas, terlihat bahwa tipe hallway terraced lebih mahal dan tipe hallway yang corridor paling murah."
      ]
    },
    {
      "cell_type": "code",
      "execution_count": 10,
      "metadata": {
        "colab": {
          "base_uri": "https://localhost:8080/"
        },
        "id": "2PMevmCeVxBG",
        "outputId": "a5c0998a-21f3-4d57-a2d2-9a3ea946df12"
      },
      "outputs": [
        {
          "data": {
            "text/plain": [
              "Index(['Banwoldang', 'Kyungbuk_uni_hospital', 'Sin-nam', 'no_subway_nearby',\n",
              "       'Bangoge', 'Myung-duk', 'Daegu', 'Chil-sung-market'],\n",
              "      dtype='object', name='SubwayStation')"
            ]
          },
          "execution_count": 10,
          "metadata": {},
          "output_type": "execute_result"
        }
      ],
      "source": [
        "df.groupby('SubwayStation').mean()['SalePrice'].sort_values(ascending=False).index"
      ]
    },
    {
      "cell_type": "code",
      "execution_count": 11,
      "metadata": {
        "colab": {
          "base_uri": "https://localhost:8080/",
          "height": 623
        },
        "id": "JaLgNjFpVxBH",
        "outputId": "5ea37d15-d5ab-437d-f72c-a25e6ed334c1"
      },
      "outputs": [
        {
          "data": {
            "text/plain": [
              "<AxesSubplot:xlabel='SubwayStation', ylabel='SalePrice'>"
            ]
          },
          "execution_count": 11,
          "metadata": {},
          "output_type": "execute_result"
        },
        {
          "data": {
            "image/png": "[encoded data removed]",
            "text/plain": [
              "<Figure size 1440x720 with 1 Axes>"
            ]
          },
          "metadata": {
            "needs_background": "light"
          },
          "output_type": "display_data"
        }
      ],
      "source": [
        "plt.figure(figsize=(20,10))\n",
        "sns.barplot(data=df, y='SalePrice', x='SubwayStation', order=df.groupby('SubwayStation').mean()['SalePrice'].sort_values(ascending=False).index)"
      ]
    },
    {
      "cell_type": "markdown",
      "metadata": {
        "id": "fpOce2dWVxBI"
      },
      "source": [
        "Berdasarkan barplot diatas, terlihat bahwa:\n",
        "- Harga apartemen di dekat Stasiun Banwoidang paling mahal, sedangkan yang paling murah di dekat Chil-sung-market\n",
        "- Harga apartemen di dekat rumah sakit Universitas Kyungbuk menempati kedua termahal\n",
        "- Ternyata apartemen yang letaknya tidak dekat dengan stasiun juga harganya lumayan mahal"
      ]
    },
    {
      "cell_type": "code",
      "execution_count": 12,
      "metadata": {
        "colab": {
          "base_uri": "https://localhost:8080/"
        },
        "id": "gqhJAK0pVxBJ",
        "outputId": "e1afb212-a480-4ba1-ca29-ef9e80241f60"
      },
      "outputs": [
        {
          "data": {
            "text/plain": [
              "Index(['0-5min', 'no_bus_stop_nearby', '5min~10min', '10min~15min',\n",
              "       '15min~20min'],\n",
              "      dtype='object', name='TimeToSubway')"
            ]
          },
          "execution_count": 12,
          "metadata": {},
          "output_type": "execute_result"
        }
      ],
      "source": [
        "df.groupby('TimeToSubway').mean()['SalePrice'].sort_values(ascending=False).index"
      ]
    },
    {
      "cell_type": "code",
      "execution_count": 13,
      "metadata": {
        "colab": {
          "base_uri": "https://localhost:8080/",
          "height": 623
        },
        "id": "WbIyjspPVxBJ",
        "outputId": "c77ba277-f96b-4f2e-a6d1-b16c786d7e8f"
      },
      "outputs": [
        {
          "data": {
            "text/plain": [
              "<AxesSubplot:xlabel='TimeToSubway', ylabel='SalePrice'>"
            ]
          },
          "execution_count": 13,
          "metadata": {},
          "output_type": "execute_result"
        },
        {
          "data": {
            "image/png": "[encoded data removed]",
            "text/plain": [
              "<Figure size 1440x720 with 1 Axes>"
            ]
          },
          "metadata": {
            "needs_background": "light"
          },
          "output_type": "display_data"
        }
      ],
      "source": [
        "plt.figure(figsize=(20,10))\n",
        "sns.barplot(data=df, y='SalePrice', x='TimeToSubway', order=df.groupby('TimeToSubway').mean()['SalePrice'].sort_values(ascending=False).index)"
      ]
    },
    {
      "cell_type": "markdown",
      "metadata": {
        "id": "bmbwgB-2VxBK"
      },
      "source": [
        "Dari barplot diatas kita bisa menyimpulkan bahwa waktu tempuh ke stasiun tidak mempengaruhi harga dari apartemen di daerah Daegu. Walaupun tidak terdapat stasiun bus harga apartemennya menempati ke-dua termahal"
      ]
    },
    {
      "cell_type": "code",
      "execution_count": 14,
      "metadata": {
        "colab": {
          "base_uri": "https://localhost:8080/",
          "height": 297
        },
        "id": "-SY0t5-TVxBL",
        "outputId": "7daa929f-8c4d-41bc-921e-c78450ede867"
      },
      "outputs": [
        {
          "data": {
            "text/plain": [
              "<AxesSubplot:xlabel='N_FacilitiesNearBy(ETC)', ylabel='SalePrice'>"
            ]
          },
          "execution_count": 14,
          "metadata": {},
          "output_type": "execute_result"
        },
        {
          "data": {
            "image/png": "[encoded data removed]",
            "text/plain": [
              "<Figure size 432x288 with 1 Axes>"
            ]
          },
          "metadata": {
            "needs_background": "light"
          },
          "output_type": "display_data"
        }
      ],
      "source": [
        "sns.barplot(data=df, y='SalePrice', x='N_FacilitiesNearBy(ETC)')"
      ]
    },
    {
      "cell_type": "markdown",
      "metadata": {},
      "source": [
        "Dari barplot diatas kita bisa melihat bahwa jumlah tol terdekat tidak mempengaruhi harga dari apartemen di daerah Daegu. Harga tertinggi di tempati dengan apartemen yang tidak memiliki fasilitas tol terdekat. Bahkan fasilitas yang mempunyai tol terbanyak menempati posisi kedua termurah"
      ]
    },
    {
      "cell_type": "code",
      "execution_count": 15,
      "metadata": {
        "colab": {
          "base_uri": "https://localhost:8080/",
          "height": 297
        },
        "id": "j1G-o29WVxBM",
        "outputId": "69d50921-8d07-43cd-9f6a-31faaf78d1ac"
      },
      "outputs": [
        {
          "data": {
            "text/plain": [
              "<AxesSubplot:xlabel='N_FacilitiesNearBy(PublicOffice)', ylabel='SalePrice'>"
            ]
          },
          "execution_count": 15,
          "metadata": {},
          "output_type": "execute_result"
        },
        {
          "data": {
            "image/png": "[encoded data removed]",
            "text/plain": [
              "<Figure size 432x288 with 1 Axes>"
            ]
          },
          "metadata": {
            "needs_background": "light"
          },
          "output_type": "display_data"
        }
      ],
      "source": [
        "sns.barplot(data=df, y='SalePrice', x='N_FacilitiesNearBy(PublicOffice)')"
      ]
    },
    {
      "cell_type": "markdown",
      "metadata": {},
      "source": [
        "Dari barplot diatas kita bisa melihat bahwa apartemen yang lokasinya jauh dengan perkantoran umum itu lebih mahal dibandingkan dengan apartemen yang lokasinya dekat dengan perkantoran umum."
      ]
    },
    {
      "cell_type": "code",
      "execution_count": 16,
      "metadata": {
        "colab": {
          "base_uri": "https://localhost:8080/",
          "height": 297
        },
        "id": "fVQtZPwkVxBN",
        "outputId": "1a9a65ee-6e2e-4e06-f5e3-3f128b566374"
      },
      "outputs": [
        {
          "data": {
            "text/plain": [
              "<AxesSubplot:xlabel='N_SchoolNearBy(University)', ylabel='SalePrice'>"
            ]
          },
          "execution_count": 16,
          "metadata": {},
          "output_type": "execute_result"
        },
        {
          "data": {
            "image/png": "[encoded data removed]",
            "text/plain": [
              "<Figure size 432x288 with 1 Axes>"
            ]
          },
          "metadata": {
            "needs_background": "light"
          },
          "output_type": "display_data"
        }
      ],
      "source": [
        "sns.barplot(data=df, y='SalePrice', x='N_SchoolNearBy(University)')"
      ]
    },
    {
      "cell_type": "markdown",
      "metadata": {},
      "source": [
        "Dari barplot diatas dapat disimpulkan bahwa apartemen yang memiliki kawasan dekat dengan area sekolah atau tidak memiliki nilai jual yang serupa, sehingga kawasan yang memiliki fasilitas dekat dengan sekolah tidak mempengaruhi nilai jual apartemen itu sendiri"
      ]
    },
    {
      "cell_type": "code",
      "execution_count": 17,
      "metadata": {
        "colab": {
          "base_uri": "https://localhost:8080/",
          "height": 297
        },
        "id": "gotUj-v2VxBO",
        "outputId": "eb5d2bcd-1dd9-4bd1-f00c-4aea8c562727"
      },
      "outputs": [
        {
          "data": {
            "text/plain": [
              "<AxesSubplot:xlabel='N_Parkinglot(Basement)', ylabel='SalePrice'>"
            ]
          },
          "execution_count": 17,
          "metadata": {},
          "output_type": "execute_result"
        },
        {
          "data": {
            "image/png": "[encoded data removed]",
            "text/plain": [
              "<Figure size 432x288 with 1 Axes>"
            ]
          },
          "metadata": {
            "needs_background": "light"
          },
          "output_type": "display_data"
        }
      ],
      "source": [
        "sns.scatterplot(data=df, y='SalePrice', x='N_Parkinglot(Basement)')"
      ]
    },
    {
      "cell_type": "markdown",
      "metadata": {},
      "source": [
        "Dari gambar diatas kita bisa melihat bahwa jumlah parkir juga mempengaruhi harga jual dari suatu apartemen. Semakin banyak jumlah parkir pada suatu apartemen harganya semakin mahal"
      ]
    },
    {
      "cell_type": "code",
      "execution_count": 18,
      "metadata": {
        "colab": {
          "base_uri": "https://localhost:8080/",
          "height": 621
        },
        "id": "bTHZ065cVxBR",
        "outputId": "98c4abd2-aded-4438-b089-b616d741d38a"
      },
      "outputs": [
        {
          "data": {
            "image/png": "[encoded data removed]",
            "text/plain": [
              "<Figure size 1080x720 with 1 Axes>"
            ]
          },
          "metadata": {
            "needs_background": "light"
          },
          "output_type": "display_data"
        }
      ],
      "source": [
        "plt.figure(figsize=(15,10))\n",
        "sns.lineplot(data=df, y='SalePrice', x='YearBuilt')\n",
        "plt.xticks(range(1978, 2015), rotation=90);"
      ]
    },
    {
      "cell_type": "markdown",
      "metadata": {},
      "source": [
        "Grafik diatas menunjukkan bahwa tahun dibangunnya suatu apartemen mempengaruhi harga jual dari apartemen. Terbukti pada tahun 2014 adalah harga paling mahal"
      ]
    },
    {
      "cell_type": "code",
      "execution_count": 19,
      "metadata": {
        "colab": {
          "base_uri": "https://localhost:8080/",
          "height": 297
        },
        "id": "mbfvRSq3VxBS",
        "outputId": "8f244436-0be7-42d4-ecc9-a488d86e377e"
      },
      "outputs": [
        {
          "data": {
            "text/plain": [
              "<AxesSubplot:xlabel='N_FacilitiesInApt', ylabel='SalePrice'>"
            ]
          },
          "execution_count": 19,
          "metadata": {},
          "output_type": "execute_result"
        },
        {
          "data": {
            "image/png": "[encoded data removed]",
            "text/plain": [
              "<Figure size 432x288 with 1 Axes>"
            ]
          },
          "metadata": {
            "needs_background": "light"
          },
          "output_type": "display_data"
        }
      ],
      "source": [
        "sns.barplot(data=df, y='SalePrice', x='N_FacilitiesInApt')"
      ]
    },
    {
      "cell_type": "markdown",
      "metadata": {
        "id": "NKPlE6cKVxBU"
      },
      "source": [
        "Dari barplot diatas kita bisa melihat semakin banyak fasilitas di suatu apartment, harganya semakin mahal"
      ]
    },
    {
      "cell_type": "code",
      "execution_count": 20,
      "metadata": {
        "colab": {
          "base_uri": "https://localhost:8080/",
          "height": 296
        },
        "id": "rfKvTwiNVxBU",
        "outputId": "836c9d23-5fd2-41dd-a0d1-e830271f09a6"
      },
      "outputs": [
        {
          "data": {
            "text/plain": [
              "<AxesSubplot:xlabel='Size(sqf)', ylabel='SalePrice'>"
            ]
          },
          "execution_count": 20,
          "metadata": {},
          "output_type": "execute_result"
        },
        {
          "data": {
            "image/png": "[encoded data removed]",
            "text/plain": [
              "<Figure size 432x288 with 1 Axes>"
            ]
          },
          "metadata": {
            "needs_background": "light"
          },
          "output_type": "display_data"
        }
      ],
      "source": [
        "sns.scatterplot(data=df, y='SalePrice', x='Size(sqf)')"
      ]
    },
    {
      "cell_type": "markdown",
      "metadata": {
        "id": "TbS2666UVxBV"
      },
      "source": [
        "Dari scatter plot diatas kita bisa melihat bahwa semakin luas bangunannya semakin mahal harganya pada rentang 0 - 2000 sqf. Tetapi ketika luasnya diatas 2000 sqf harganya kembali turun"
      ]
    },
    {
      "cell_type": "code",
      "execution_count": 21,
      "metadata": {
        "colab": {
          "base_uri": "https://localhost:8080/",
          "height": 297
        },
        "id": "VfD9Ln1ULkMR",
        "outputId": "3026ce6f-2490-4b51-9c53-f0dbd899c409"
      },
      "outputs": [
        {
          "data": {
            "image/png": "[encoded data removed]",
            "text/plain": [
              "<Figure size 432x288 with 8 Axes>"
            ]
          },
          "metadata": {
            "needs_background": "light"
          },
          "output_type": "display_data"
        }
      ],
      "source": [
        "# Mengecek outliers \n",
        "\n",
        "plt.subplot(4,2,1)\n",
        "sns.boxplot(data=df, x='N_FacilitiesNearBy(ETC)')\n",
        "plt.subplot(4,2,2)\n",
        "sns.boxplot(data=df, x='N_FacilitiesNearBy(PublicOffice)')\n",
        "plt.subplot(4,2,3)\n",
        "sns.boxplot(data=df, x='N_SchoolNearBy(University)')\n",
        "plt.subplot(4,2,4)\n",
        "sns.boxplot(data=df, x='N_Parkinglot(Basement)')\n",
        "plt.subplot(4,2,5)\n",
        "sns.boxplot(data=df, x='YearBuilt')\n",
        "plt.subplot(4,2,6)\n",
        "sns.boxplot(data=df, x='N_FacilitiesInApt')\n",
        "plt.subplot(4,2,7)\n",
        "sns.boxplot(data=df, x='Size(sqf)')\n",
        "plt.subplot(4,2,8)\n",
        "sns.boxplot(data=df, x='SalePrice')\n",
        "plt.tight_layout()"
      ]
    },
    {
      "cell_type": "markdown",
      "metadata": {
        "id": "eEJGHDaUMz4o"
      },
      "source": [
        "Terlihat outlier ada pada 2 fitur yaitu 'Size(sqf)' dan 'SalePrice'. Dalam project ini saya tidak akan membuang outliers karena datanya sedikit dan saya tidak ingin mengurangi data. Oleh karena itu pada evaluasi metric kita akan menggunakan MAE. Sedangkan menggunakan RMSE agar lebih mudah diinterpretasikan."
      ]
    },
    {
      "cell_type": "markdown",
      "metadata": {
        "id": "Y6_mnaLsVxBW"
      },
      "source": [
        "### **3. Modeling**"
      ]
    },
    {
      "cell_type": "code",
      "execution_count": 22,
      "metadata": {
        "id": "mwYEVyqRVxBX"
      },
      "outputs": [],
      "source": [
        "# Define X and y\n",
        "\n",
        "X = df.drop(columns='SalePrice')\n",
        "y = df['SalePrice']"
      ]
    },
    {
      "cell_type": "code",
      "execution_count": 23,
      "metadata": {
        "id": "d_kWyV5VVxBX"
      },
      "outputs": [],
      "source": [
        "# Data splitting dengan proporsi 80:20\n",
        "\n",
        "X_train, X_test, y_train, y_test = train_test_split(\n",
        "    X,\n",
        "    y,\n",
        "    test_size=0.2,\n",
        "    random_state=0\n",
        ")"
      ]
    },
    {
      "cell_type": "markdown",
      "metadata": {
        "id": "mwZchXlGtqA4"
      },
      "source": [
        "Disini kita akan mengubah fitur kategorikal menjadi numerikal terlebih dahulu menggunakan OneHotEncoder"
      ]
    },
    {
      "cell_type": "code",
      "execution_count": 24,
      "metadata": {
        "id": "QePxGP3DVxBa"
      },
      "outputs": [],
      "source": [
        "# Preprocessing\n",
        "\n",
        "transformer = ColumnTransformer([\n",
        "    ('onehot', OneHotEncoder(drop='first'), ['HallwayType', 'TimeToSubway', 'SubwayStation'])\n",
        "], remainder='passthrough')"
      ]
    },
    {
      "cell_type": "code",
      "execution_count": 25,
      "metadata": {
        "id": "XnJBK-MDVxBa"
      },
      "outputs": [],
      "source": [
        "# Scaling\n",
        "\n",
        "scaler = RobustScaler()"
      ]
    },
    {
      "cell_type": "code",
      "execution_count": 26,
      "metadata": {
        "id": "eQwzjpMLVxBa"
      },
      "outputs": [],
      "source": [
        "# Define models (6 kandidat model)\n",
        "\n",
        "lasso = Lasso(alpha=1)\n",
        "knn = KNeighborsRegressor(n_neighbors=5)\n",
        "tree = DecisionTreeRegressor(criterion='absolute_error',min_samples_leaf=1, max_depth=5, random_state=0 )\n",
        "rf = RandomForestRegressor(random_state=0)\n",
        "ada = AdaBoostRegressor(random_state=0)\n",
        "grad = GradientBoostingRegressor(random_state=0)"
      ]
    },
    {
      "cell_type": "code",
      "execution_count": 27,
      "metadata": {
        "colab": {
          "base_uri": "https://localhost:8080/"
        },
        "id": "aBuYdwecVxBb",
        "outputId": "13ff155a-b9e1-443a-ec8b-9f1de2f3cfe8"
      },
      "outputs": [
        {
          "name": "stdout",
          "output_type": "stream",
          "text": [
            "[-39618.01860316 -41270.78989787 -44126.68081141 -43147.63036268\n",
            " -41437.93056367] Lasso(alpha=1)\n",
            "[-39665.90925926 -36808.05231481 -41998.29953704 -39088.825\n",
            " -40317.7287037 ] KNeighborsRegressor()\n",
            "[-39907.81481481 -39504.96875    -40893.97222222 -39032.20023148\n",
            " -41461.43171296] DecisionTreeRegressor(criterion='absolute_error', max_depth=5, random_state=0)\n",
            "[-36674.59427829 -36372.18778339 -39117.34918715 -37213.25677699\n",
            " -38536.82112957] RandomForestRegressor(random_state=0)\n",
            "[-40098.80094351 -42875.47288642 -45218.43273346 -43419.71762857\n",
            " -42389.42324178] AdaBoostRegressor(random_state=0)\n",
            "[-36249.14049356 -36844.49312581 -39509.51762481 -37498.41331132\n",
            " -38622.82129015] GradientBoostingRegressor(random_state=0)\n"
          ]
        }
      ],
      "source": [
        "models = [lasso, knn, tree, rf, ada, grad]\n",
        "\n",
        "cv_mean = []\n",
        "cv_std = []\n",
        "\n",
        "for i in models:\n",
        "    pipe_model = Pipeline([\n",
        "        ('prep', transformer),\n",
        "        ('scaler', scaler),\n",
        "        ('model', i)\n",
        "    ])\n",
        "\n",
        "    model_cv =cross_val_score(\n",
        "        estimator= pipe_model,\n",
        "        X = X_train,\n",
        "        y = y_train,\n",
        "        cv = 5,\n",
        "        scoring = 'neg_mean_absolute_error'\n",
        "    )\n",
        "\n",
        "    cv_mean.append(model_cv.mean())\n",
        "    cv_std.append(model_cv.std())\n",
        "\n",
        "    print(model_cv, i)"
      ]
    },
    {
      "cell_type": "code",
      "execution_count": 28,
      "metadata": {
        "colab": {
          "base_uri": "https://localhost:8080/"
        },
        "id": "1z7Mlo2nVxBc",
        "outputId": "5010da81-bb19-4b82-a625-5dc3918cfb31"
      },
      "outputs": [
        {
          "data": {
            "text/plain": [
              "[-41920.210047759385,\n",
              " -39575.76296296296,\n",
              " -40160.07754629629,\n",
              " -37582.84183107907,\n",
              " -42800.36948674958,\n",
              " -37744.87716913027]"
            ]
          },
          "execution_count": 28,
          "metadata": {},
          "output_type": "execute_result"
        }
      ],
      "source": [
        "cv_mean"
      ]
    },
    {
      "cell_type": "code",
      "execution_count": 29,
      "metadata": {
        "colab": {
          "base_uri": "https://localhost:8080/",
          "height": 238
        },
        "id": "-z1W-eM7VxBc",
        "outputId": "cee84d41-e8a5-43aa-fb01-c8b2e75ccbf1"
      },
      "outputs": [
        {
          "data": {
            "text/html": [
              "<div>\n",
              "<style scoped>\n",
              "    .dataframe tbody tr th:only-of-type {\n",
              "        vertical-align: middle;\n",
              "    }\n",
              "\n",
              "    .dataframe tbody tr th {\n",
              "        vertical-align: top;\n",
              "    }\n",
              "\n",
              "    .dataframe thead th {\n",
              "        text-align: right;\n",
              "    }\n",
              "</style>\n",
              "<table border=\"1\" class=\"dataframe\">\n",
              "  <thead>\n",
              "    <tr style=\"text-align: right;\">\n",
              "      <th></th>\n",
              "      <th>model</th>\n",
              "      <th>mean</th>\n",
              "      <th>std</th>\n",
              "    </tr>\n",
              "  </thead>\n",
              "  <tbody>\n",
              "    <tr>\n",
              "      <th>0</th>\n",
              "      <td>Lasso</td>\n",
              "      <td>-41920.210048</td>\n",
              "      <td>1570.318397</td>\n",
              "    </tr>\n",
              "    <tr>\n",
              "      <th>1</th>\n",
              "      <td>KNN Regressor</td>\n",
              "      <td>-39575.762963</td>\n",
              "      <td>1692.610633</td>\n",
              "    </tr>\n",
              "    <tr>\n",
              "      <th>2</th>\n",
              "      <td>Decision Tree Regressor</td>\n",
              "      <td>-40160.077546</td>\n",
              "      <td>894.095668</td>\n",
              "    </tr>\n",
              "    <tr>\n",
              "      <th>3</th>\n",
              "      <td>RandomForestRegressor</td>\n",
              "      <td>-37582.841831</td>\n",
              "      <td>1066.956352</td>\n",
              "    </tr>\n",
              "    <tr>\n",
              "      <th>4</th>\n",
              "      <td>AdaBoostRegressor</td>\n",
              "      <td>-42800.369487</td>\n",
              "      <td>1655.512725</td>\n",
              "    </tr>\n",
              "    <tr>\n",
              "      <th>5</th>\n",
              "      <td>GradientBoostingRegressor</td>\n",
              "      <td>-37744.877169</td>\n",
              "      <td>1182.658520</td>\n",
              "    </tr>\n",
              "  </tbody>\n",
              "</table>\n",
              "</div>"
            ],
            "text/plain": [
              "                       model          mean          std\n",
              "0                      Lasso -41920.210048  1570.318397\n",
              "1              KNN Regressor -39575.762963  1692.610633\n",
              "2    Decision Tree Regressor -40160.077546   894.095668\n",
              "3      RandomForestRegressor -37582.841831  1066.956352\n",
              "4          AdaBoostRegressor -42800.369487  1655.512725\n",
              "5  GradientBoostingRegressor -37744.877169  1182.658520"
            ]
          },
          "execution_count": 29,
          "metadata": {},
          "output_type": "execute_result"
        }
      ],
      "source": [
        "# Perbandingan performa antar model\n",
        "\n",
        "pd.DataFrame({\n",
        "    'model':['Lasso', 'KNN Regressor', 'Decision Tree Regressor', 'RandomForestRegressor', 'AdaBoostRegressor', 'GradientBoostingRegressor'],\n",
        "    'mean': cv_mean,\n",
        "    'std': cv_std\n",
        "})"
      ]
    },
    {
      "cell_type": "markdown",
      "metadata": {
        "id": "U-5ik22sVxBd"
      },
      "source": [
        "#### **Interpretasi**\n",
        "\n",
        "- Dari keenam model yang dicoba, ternyata model Random Forest Regressor menghasilkan error yang paling kecil\n",
        "- Decision Tree Regressor juga cukup stabil\n",
        "- Untuk selanjutnya, hanya model Random Forest Regressor saja yang akan diuji pada test set dan juga dilakukan tuning."
      ]
    },
    {
      "cell_type": "markdown",
      "metadata": {
        "id": "Tcsd3fU0N_7Y"
      },
      "source": [
        "Random Forest  merupakan salah satu metode dalam Decision Tree.\n",
        "Jadi alasan mengapa disebut random forest adalah karena kita melakukan penghitungan decision tree beberapa kali sehingga membentuk sebuah forest.\n",
        "Model ini memiliki tingkat akurasi cukup tinggi karena random forest mengambil rata-rata (average) dari sekian banyak prediksi. Dengan demikian, model ini bisa meminimumkan error-nya."
      ]
    },
    {
      "cell_type": "markdown",
      "metadata": {
        "id": "v4pVyot-VxBe"
      },
      "source": [
        "#### **Hyperparameter Tuning**"
      ]
    },
    {
      "cell_type": "markdown",
      "metadata": {
        "id": "iriChbvHVxBf"
      },
      "source": [
        "Cari hyperparameter terbaik untuk *Random Forest*"
      ]
    },
    {
      "cell_type": "code",
      "execution_count": 30,
      "metadata": {
        "id": "-iOEuWplVxBf"
      },
      "outputs": [],
      "source": [
        "# hyperparameter yang akan diisikan pada model\n",
        "\n",
        "hyperparam_space = {\n",
        "    'model__criterion' : ['absolute_error', 'squared_error'],\n",
        "    'model__n_estimators': range(100,1000,5),\n",
        "    'model__max_features': range(2,10,1),\n",
        "    'model__max_depth': range(1,50,1),\n",
        "    'model__min_samples_split': range(2, 100, 2),\n",
        "    'model__min_samples_leaf': range(2, 100, 2)\n",
        "}\n"
      ]
    },
    {
      "cell_type": "code",
      "execution_count": 31,
      "metadata": {
        "id": "0bugJHouVxBg"
      },
      "outputs": [],
      "source": [
        "# RandomizedSearchCV\n",
        "\n",
        "pipe_model = Pipeline([\n",
        "        ('prep', transformer),\n",
        "        ('scaler', scaler),\n",
        "        ('model', rf)\n",
        "    ])\n",
        "\n",
        "random_search = RandomizedSearchCV(\n",
        "    estimator= pipe_model,\n",
        "    param_distributions= hyperparam_space,\n",
        "    cv= 5,\n",
        "    scoring= 'neg_mean_absolute_error',\n",
        "    n_jobs= -1,\n",
        "    n_iter= 50,\n",
        "    random_state= 0\n",
        ")"
      ]
    },
    {
      "cell_type": "code",
      "execution_count": 32,
      "metadata": {
        "colab": {
          "base_uri": "https://localhost:8080/"
        },
        "id": "USwpkITSVxBg",
        "outputId": "9d2025ad-2e5b-440a-c4da-bff147d601d1"
      },
      "outputs": [
        {
          "data": {
            "text/html": [
              "<style>#sk-container-id-1 {color: black;background-color: white;}#sk-container-id-1 pre{padding: 0;}#sk-container-id-1 div.sk-toggleable {background-color: white;}#sk-container-id-1 label.sk-toggleable__label {cursor: pointer;display: block;width: 100%;margin-bottom: 0;padding: 0.3em;box-sizing: border-box;text-align: center;}#sk-container-id-1 label.sk-toggleable__label-arrow:before {content: \"▸\";float: left;margin-right: 0.25em;color: #696969;}#sk-container-id-1 label.sk-toggleable__label-arrow:hover:before {color: black;}#sk-container-id-1 div.sk-estimator:hover label.sk-toggleable__label-arrow:before {color: black;}#sk-container-id-1 div.sk-toggleable__content {max-height: 0;max-width: 0;overflow: hidden;text-align: left;background-color: #f0f8ff;}#sk-container-id-1 div.sk-toggleable__content pre {margin: 0.2em;color: black;border-radius: 0.25em;background-color: #f0f8ff;}#sk-container-id-1 input.sk-toggleable__control:checked~div.sk-toggleable__content {max-height: 200px;max-width: 100%;overflow: auto;}#sk-container-id-1 input.sk-toggleable__control:checked~label.sk-toggleable__label-arrow:before {content: \"▾\";}#sk-container-id-1 div.sk-estimator input.sk-toggleable__control:checked~label.sk-toggleable__label {background-color: #d4ebff;}#sk-container-id-1 div.sk-label input.sk-toggleable__control:checked~label.sk-toggleable__label {background-color: #d4ebff;}#sk-container-id-1 input.sk-hidden--visually {border: 0;clip: rect(1px 1px 1px 1px);clip: rect(1px, 1px, 1px, 1px);height: 1px;margin: -1px;overflow: hidden;padding: 0;position: absolute;width: 1px;}#sk-container-id-1 div.sk-estimator {font-family: monospace;background-color: #f0f8ff;border: 1px dotted black;border-radius: 0.25em;box-sizing: border-box;margin-bottom: 0.5em;}#sk-container-id-1 div.sk-estimator:hover {background-color: #d4ebff;}#sk-container-id-1 div.sk-parallel-item::after {content: \"\";width: 100%;border-bottom: 1px solid gray;flex-grow: 1;}#sk-container-id-1 div.sk-label:hover label.sk-toggleable__label {background-color: #d4ebff;}#sk-container-id-1 div.sk-serial::before {content: \"\";position: absolute;border-left: 1px solid gray;box-sizing: border-box;top: 0;bottom: 0;left: 50%;z-index: 0;}#sk-container-id-1 div.sk-serial {display: flex;flex-direction: column;align-items: center;background-color: white;padding-right: 0.2em;padding-left: 0.2em;position: relative;}#sk-container-id-1 div.sk-item {position: relative;z-index: 1;}#sk-container-id-1 div.sk-parallel {display: flex;align-items: stretch;justify-content: center;background-color: white;position: relative;}#sk-container-id-1 div.sk-item::before, #sk-container-id-1 div.sk-parallel-item::before {content: \"\";position: absolute;border-left: 1px solid gray;box-sizing: border-box;top: 0;bottom: 0;left: 50%;z-index: -1;}#sk-container-id-1 div.sk-parallel-item {display: flex;flex-direction: column;z-index: 1;position: relative;background-color: white;}#sk-container-id-1 div.sk-parallel-item:first-child::after {align-self: flex-end;width: 50%;}#sk-container-id-1 div.sk-parallel-item:last-child::after {align-self: flex-start;width: 50%;}#sk-container-id-1 div.sk-parallel-item:only-child::after {width: 0;}#sk-container-id-1 div.sk-dashed-wrapped {border: 1px dashed gray;margin: 0 0.4em 0.5em 0.4em;box-sizing: border-box;padding-bottom: 0.4em;background-color: white;}#sk-container-id-1 div.sk-label label {font-family: monospace;font-weight: bold;display: inline-block;line-height: 1.2em;}#sk-container-id-1 div.sk-label-container {text-align: center;}#sk-container-id-1 div.sk-container {/* jupyter's `normalize.less` sets `[hidden] { display: none; }` but bootstrap.min.css set `[hidden] { display: none !important; }` so we also need the `!important` here to be able to override the default hidden behavior on the sphinx rendered scikit-learn.org. See: https://github.com/scikit-learn/scikit-learn/issues/21755 */display: inline-block !important;position: relative;}#sk-container-id-1 div.sk-text-repr-fallback {display: none;}</style><div id=\"sk-container-id-1\" class=\"sk-top-container\"><div class=\"sk-text-repr-fallback\"><pre>RandomizedSearchCV(cv=5,\n",
              "                   estimator=Pipeline(steps=[(&#x27;prep&#x27;,\n",
              "                                              ColumnTransformer(remainder=&#x27;passthrough&#x27;,\n",
              "                                                                transformers=[(&#x27;onehot&#x27;,\n",
              "                                                                               OneHotEncoder(drop=&#x27;first&#x27;),\n",
              "                                                                               [&#x27;HallwayType&#x27;,\n",
              "                                                                                &#x27;TimeToSubway&#x27;,\n",
              "                                                                                &#x27;SubwayStation&#x27;])])),\n",
              "                                             (&#x27;scaler&#x27;, RobustScaler()),\n",
              "                                             (&#x27;model&#x27;,\n",
              "                                              RandomForestRegressor(random_state=0))]),\n",
              "                   n_iter=50, n_jobs=-1,\n",
              "                   param_distributions={&#x27;model__criterion&#x27;: [&#x27;absolute_error&#x27;,\n",
              "                                                             &#x27;squared_error&#x27;],\n",
              "                                        &#x27;model__max_depth&#x27;: range(1, 50),\n",
              "                                        &#x27;model__max_features&#x27;: range(2, 10),\n",
              "                                        &#x27;model__min_samples_leaf&#x27;: range(2, 100, 2),\n",
              "                                        &#x27;model__min_samples_split&#x27;: range(2, 100, 2),\n",
              "                                        &#x27;model__n_estimators&#x27;: range(100, 1000, 5)},\n",
              "                   random_state=0, scoring=&#x27;neg_mean_absolute_error&#x27;)</pre><b>In a Jupyter environment, please rerun this cell to show the HTML representation or trust the notebook. <br />On GitHub, the HTML representation is unable to render, please try loading this page with nbviewer.org.</b></div><div class=\"sk-container\" hidden><div class=\"sk-item sk-dashed-wrapped\"><div class=\"sk-label-container\"><div class=\"sk-label sk-toggleable\"><input class=\"sk-toggleable__control sk-hidden--visually\" id=\"sk-estimator-id-1\" type=\"checkbox\" ><label for=\"sk-estimator-id-1\" class=\"sk-toggleable__label sk-toggleable__label-arrow\">RandomizedSearchCV</label><div class=\"sk-toggleable__content\"><pre>RandomizedSearchCV(cv=5,\n",
              "                   estimator=Pipeline(steps=[(&#x27;prep&#x27;,\n",
              "                                              ColumnTransformer(remainder=&#x27;passthrough&#x27;,\n",
              "                                                                transformers=[(&#x27;onehot&#x27;,\n",
              "                                                                               OneHotEncoder(drop=&#x27;first&#x27;),\n",
              "                                                                               [&#x27;HallwayType&#x27;,\n",
              "                                                                                &#x27;TimeToSubway&#x27;,\n",
              "                                                                                &#x27;SubwayStation&#x27;])])),\n",
              "                                             (&#x27;scaler&#x27;, RobustScaler()),\n",
              "                                             (&#x27;model&#x27;,\n",
              "                                              RandomForestRegressor(random_state=0))]),\n",
              "                   n_iter=50, n_jobs=-1,\n",
              "                   param_distributions={&#x27;model__criterion&#x27;: [&#x27;absolute_error&#x27;,\n",
              "                                                             &#x27;squared_error&#x27;],\n",
              "                                        &#x27;model__max_depth&#x27;: range(1, 50),\n",
              "                                        &#x27;model__max_features&#x27;: range(2, 10),\n",
              "                                        &#x27;model__min_samples_leaf&#x27;: range(2, 100, 2),\n",
              "                                        &#x27;model__min_samples_split&#x27;: range(2, 100, 2),\n",
              "                                        &#x27;model__n_estimators&#x27;: range(100, 1000, 5)},\n",
              "                   random_state=0, scoring=&#x27;neg_mean_absolute_error&#x27;)</pre></div></div></div><div class=\"sk-parallel\"><div class=\"sk-parallel-item\"><div class=\"sk-item\"><div class=\"sk-label-container\"><div class=\"sk-label sk-toggleable\"><input class=\"sk-toggleable__control sk-hidden--visually\" id=\"sk-estimator-id-2\" type=\"checkbox\" ><label for=\"sk-estimator-id-2\" class=\"sk-toggleable__label sk-toggleable__label-arrow\">estimator: Pipeline</label><div class=\"sk-toggleable__content\"><pre>Pipeline(steps=[(&#x27;prep&#x27;,\n",
              "                 ColumnTransformer(remainder=&#x27;passthrough&#x27;,\n",
              "                                   transformers=[(&#x27;onehot&#x27;,\n",
              "                                                  OneHotEncoder(drop=&#x27;first&#x27;),\n",
              "                                                  [&#x27;HallwayType&#x27;,\n",
              "                                                   &#x27;TimeToSubway&#x27;,\n",
              "                                                   &#x27;SubwayStation&#x27;])])),\n",
              "                (&#x27;scaler&#x27;, RobustScaler()),\n",
              "                (&#x27;model&#x27;, RandomForestRegressor(random_state=0))])</pre></div></div></div><div class=\"sk-serial\"><div class=\"sk-item\"><div class=\"sk-serial\"><div class=\"sk-item sk-dashed-wrapped\"><div class=\"sk-label-container\"><div class=\"sk-label sk-toggleable\"><input class=\"sk-toggleable__control sk-hidden--visually\" id=\"sk-estimator-id-3\" type=\"checkbox\" ><label for=\"sk-estimator-id-3\" class=\"sk-toggleable__label sk-toggleable__label-arrow\">prep: ColumnTransformer</label><div class=\"sk-toggleable__content\"><pre>ColumnTransformer(remainder=&#x27;passthrough&#x27;,\n",
              "                  transformers=[(&#x27;onehot&#x27;, OneHotEncoder(drop=&#x27;first&#x27;),\n",
              "                                 [&#x27;HallwayType&#x27;, &#x27;TimeToSubway&#x27;,\n",
              "                                  &#x27;SubwayStation&#x27;])])</pre></div></div></div><div class=\"sk-parallel\"><div class=\"sk-parallel-item\"><div class=\"sk-item\"><div class=\"sk-label-container\"><div class=\"sk-label sk-toggleable\"><input class=\"sk-toggleable__control sk-hidden--visually\" id=\"sk-estimator-id-4\" type=\"checkbox\" ><label for=\"sk-estimator-id-4\" class=\"sk-toggleable__label sk-toggleable__label-arrow\">onehot</label><div class=\"sk-toggleable__content\"><pre>[&#x27;HallwayType&#x27;, &#x27;TimeToSubway&#x27;, &#x27;SubwayStation&#x27;]</pre></div></div></div><div class=\"sk-serial\"><div class=\"sk-item\"><div class=\"sk-estimator sk-toggleable\"><input class=\"sk-toggleable__control sk-hidden--visually\" id=\"sk-estimator-id-5\" type=\"checkbox\" ><label for=\"sk-estimator-id-5\" class=\"sk-toggleable__label sk-toggleable__label-arrow\">OneHotEncoder</label><div class=\"sk-toggleable__content\"><pre>OneHotEncoder(drop=&#x27;first&#x27;)</pre></div></div></div></div></div></div><div class=\"sk-parallel-item\"><div class=\"sk-item\"><div class=\"sk-label-container\"><div class=\"sk-label sk-toggleable\"><input class=\"sk-toggleable__control sk-hidden--visually\" id=\"sk-estimator-id-6\" type=\"checkbox\" ><label for=\"sk-estimator-id-6\" class=\"sk-toggleable__label sk-toggleable__label-arrow\">remainder</label><div class=\"sk-toggleable__content\"><pre></pre></div></div></div><div class=\"sk-serial\"><div class=\"sk-item\"><div class=\"sk-estimator sk-toggleable\"><input class=\"sk-toggleable__control sk-hidden--visually\" id=\"sk-estimator-id-7\" type=\"checkbox\" ><label for=\"sk-estimator-id-7\" class=\"sk-toggleable__label sk-toggleable__label-arrow\">passthrough</label><div class=\"sk-toggleable__content\"><pre>passthrough</pre></div></div></div></div></div></div></div></div><div class=\"sk-item\"><div class=\"sk-estimator sk-toggleable\"><input class=\"sk-toggleable__control sk-hidden--visually\" id=\"sk-estimator-id-8\" type=\"checkbox\" ><label for=\"sk-estimator-id-8\" class=\"sk-toggleable__label sk-toggleable__label-arrow\">RobustScaler</label><div class=\"sk-toggleable__content\"><pre>RobustScaler()</pre></div></div></div><div class=\"sk-item\"><div class=\"sk-estimator sk-toggleable\"><input class=\"sk-toggleable__control sk-hidden--visually\" id=\"sk-estimator-id-9\" type=\"checkbox\" ><label for=\"sk-estimator-id-9\" class=\"sk-toggleable__label sk-toggleable__label-arrow\">RandomForestRegressor</label><div class=\"sk-toggleable__content\"><pre>RandomForestRegressor(random_state=0)</pre></div></div></div></div></div></div></div></div></div></div></div></div>"
            ],
            "text/plain": [
              "RandomizedSearchCV(cv=5,\n",
              "                   estimator=Pipeline(steps=[('prep',\n",
              "                                              ColumnTransformer(remainder='passthrough',\n",
              "                                                                transformers=[('onehot',\n",
              "                                                                               OneHotEncoder(drop='first'),\n",
              "                                                                               ['HallwayType',\n",
              "                                                                                'TimeToSubway',\n",
              "                                                                                'SubwayStation'])])),\n",
              "                                             ('scaler', RobustScaler()),\n",
              "                                             ('model',\n",
              "                                              RandomForestRegressor(random_state=0))]),\n",
              "                   n_iter=50, n_jobs=-1,\n",
              "                   param_distributions={'model__criterion': ['absolute_error',\n",
              "                                                             'squared_error'],\n",
              "                                        'model__max_depth': range(1, 50),\n",
              "                                        'model__max_features': range(2, 10),\n",
              "                                        'model__min_samples_leaf': range(2, 100, 2),\n",
              "                                        'model__min_samples_split': range(2, 100, 2),\n",
              "                                        'model__n_estimators': range(100, 1000, 5)},\n",
              "                   random_state=0, scoring='neg_mean_absolute_error')"
            ]
          },
          "execution_count": 32,
          "metadata": {},
          "output_type": "execute_result"
        }
      ],
      "source": [
        "# fit randomized_search pada train set\n",
        "\n",
        "random_search.fit(X_train, y_train)"
      ]
    },
    {
      "cell_type": "code",
      "execution_count": 33,
      "metadata": {
        "colab": {
          "base_uri": "https://localhost:8080/"
        },
        "id": "CykiaZuiVxBh",
        "outputId": "b4833d97-7fb4-4fed-cea1-34e2211c2a73"
      },
      "outputs": [
        {
          "name": "stdout",
          "output_type": "stream",
          "text": [
            "-38109.904380325235\n",
            "{'model__n_estimators': 395, 'model__min_samples_split': 22, 'model__min_samples_leaf': 6, 'model__max_features': 8, 'model__max_depth': 7, 'model__criterion': 'squared_error'}\n"
          ]
        }
      ],
      "source": [
        "# score terbaik hasil dari randomized_search\n",
        "print(random_search.best_score_)\n",
        "\n",
        "# hyperparameter pada score terbaik hasil dari randomized_search\n",
        "print(random_search.best_params_)"
      ]
    },
    {
      "cell_type": "code",
      "execution_count": 34,
      "metadata": {
        "colab": {
          "base_uri": "https://localhost:8080/",
          "height": 444
        },
        "id": "0VQmwlKlVxBh",
        "outputId": "577fc89f-7e52-4fec-9bf0-54bbb0839280"
      },
      "outputs": [
        {
          "data": {
            "text/html": [
              "<div>\n",
              "<style scoped>\n",
              "    .dataframe tbody tr th:only-of-type {\n",
              "        vertical-align: middle;\n",
              "    }\n",
              "\n",
              "    .dataframe tbody tr th {\n",
              "        vertical-align: top;\n",
              "    }\n",
              "\n",
              "    .dataframe thead th {\n",
              "        text-align: right;\n",
              "    }\n",
              "</style>\n",
              "<table border=\"1\" class=\"dataframe\">\n",
              "  <thead>\n",
              "    <tr style=\"text-align: right;\">\n",
              "      <th></th>\n",
              "      <th>mean_fit_time</th>\n",
              "      <th>std_fit_time</th>\n",
              "      <th>mean_score_time</th>\n",
              "      <th>std_score_time</th>\n",
              "      <th>param_model__n_estimators</th>\n",
              "      <th>param_model__min_samples_split</th>\n",
              "      <th>param_model__min_samples_leaf</th>\n",
              "      <th>param_model__max_features</th>\n",
              "      <th>param_model__max_depth</th>\n",
              "      <th>param_model__criterion</th>\n",
              "      <th>params</th>\n",
              "      <th>split0_test_score</th>\n",
              "      <th>split1_test_score</th>\n",
              "      <th>split2_test_score</th>\n",
              "      <th>split3_test_score</th>\n",
              "      <th>split4_test_score</th>\n",
              "      <th>mean_test_score</th>\n",
              "      <th>std_test_score</th>\n",
              "      <th>rank_test_score</th>\n",
              "    </tr>\n",
              "  </thead>\n",
              "  <tbody>\n",
              "    <tr>\n",
              "      <th>0</th>\n",
              "      <td>1.953229</td>\n",
              "      <td>0.148216</td>\n",
              "      <td>0.107704</td>\n",
              "      <td>0.004672</td>\n",
              "      <td>580</td>\n",
              "      <td>12</td>\n",
              "      <td>12</td>\n",
              "      <td>7</td>\n",
              "      <td>12</td>\n",
              "      <td>squared_error</td>\n",
              "      <td>{'model__n_estimators': 580, 'model__min_sampl...</td>\n",
              "      <td>-37190.970051</td>\n",
              "      <td>-36973.327234</td>\n",
              "      <td>-40666.710209</td>\n",
              "      <td>-39029.652080</td>\n",
              "      <td>-39090.513882</td>\n",
              "      <td>-38590.234691</td>\n",
              "      <td>1365.829326</td>\n",
              "      <td>2</td>\n",
              "    </tr>\n",
              "    <tr>\n",
              "      <th>1</th>\n",
              "      <td>1.206199</td>\n",
              "      <td>0.042683</td>\n",
              "      <td>0.075049</td>\n",
              "      <td>0.004545</td>\n",
              "      <td>395</td>\n",
              "      <td>22</td>\n",
              "      <td>6</td>\n",
              "      <td>8</td>\n",
              "      <td>7</td>\n",
              "      <td>squared_error</td>\n",
              "      <td>{'model__n_estimators': 395, 'model__min_sampl...</td>\n",
              "      <td>-36691.873212</td>\n",
              "      <td>-36751.566632</td>\n",
              "      <td>-39927.166399</td>\n",
              "      <td>-38123.107741</td>\n",
              "      <td>-39055.807918</td>\n",
              "      <td>-38109.904380</td>\n",
              "      <td>1269.113305</td>\n",
              "      <td>1</td>\n",
              "    </tr>\n",
              "    <tr>\n",
              "      <th>2</th>\n",
              "      <td>1.979202</td>\n",
              "      <td>0.053518</td>\n",
              "      <td>0.135275</td>\n",
              "      <td>0.023660</td>\n",
              "      <td>705</td>\n",
              "      <td>82</td>\n",
              "      <td>52</td>\n",
              "      <td>5</td>\n",
              "      <td>12</td>\n",
              "      <td>squared_error</td>\n",
              "      <td>{'model__n_estimators': 705, 'model__min_sampl...</td>\n",
              "      <td>-43463.071892</td>\n",
              "      <td>-40908.886833</td>\n",
              "      <td>-45580.295199</td>\n",
              "      <td>-44300.114723</td>\n",
              "      <td>-43124.347379</td>\n",
              "      <td>-43475.343205</td>\n",
              "      <td>1537.603195</td>\n",
              "      <td>27</td>\n",
              "    </tr>\n",
              "    <tr>\n",
              "      <th>3</th>\n",
              "      <td>3.370537</td>\n",
              "      <td>0.066236</td>\n",
              "      <td>0.027110</td>\n",
              "      <td>0.008170</td>\n",
              "      <td>105</td>\n",
              "      <td>56</td>\n",
              "      <td>64</td>\n",
              "      <td>9</td>\n",
              "      <td>26</td>\n",
              "      <td>absolute_error</td>\n",
              "      <td>{'model__n_estimators': 105, 'model__min_sampl...</td>\n",
              "      <td>-41661.600375</td>\n",
              "      <td>-39326.328175</td>\n",
              "      <td>-43550.050507</td>\n",
              "      <td>-42717.297465</td>\n",
              "      <td>-42659.816347</td>\n",
              "      <td>-41983.018574</td>\n",
              "      <td>1456.991649</td>\n",
              "      <td>20</td>\n",
              "    </tr>\n",
              "    <tr>\n",
              "      <th>4</th>\n",
              "      <td>10.484330</td>\n",
              "      <td>0.424350</td>\n",
              "      <td>0.057336</td>\n",
              "      <td>0.001621</td>\n",
              "      <td>350</td>\n",
              "      <td>50</td>\n",
              "      <td>24</td>\n",
              "      <td>7</td>\n",
              "      <td>12</td>\n",
              "      <td>absolute_error</td>\n",
              "      <td>{'model__n_estimators': 350, 'model__min_sampl...</td>\n",
              "      <td>-38194.611200</td>\n",
              "      <td>-37345.303231</td>\n",
              "      <td>-41729.489236</td>\n",
              "      <td>-39966.678866</td>\n",
              "      <td>-39850.971055</td>\n",
              "      <td>-39417.410718</td>\n",
              "      <td>1524.745568</td>\n",
              "      <td>5</td>\n",
              "    </tr>\n",
              "  </tbody>\n",
              "</table>\n",
              "</div>"
            ],
            "text/plain": [
              "   mean_fit_time  std_fit_time  mean_score_time  std_score_time  \\\n",
              "0       1.953229      0.148216         0.107704        0.004672   \n",
              "1       1.206199      0.042683         0.075049        0.004545   \n",
              "2       1.979202      0.053518         0.135275        0.023660   \n",
              "3       3.370537      0.066236         0.027110        0.008170   \n",
              "4      10.484330      0.424350         0.057336        0.001621   \n",
              "\n",
              "  param_model__n_estimators param_model__min_samples_split  \\\n",
              "0                       580                             12   \n",
              "1                       395                             22   \n",
              "2                       705                             82   \n",
              "3                       105                             56   \n",
              "4                       350                             50   \n",
              "\n",
              "  param_model__min_samples_leaf param_model__max_features  \\\n",
              "0                            12                         7   \n",
              "1                             6                         8   \n",
              "2                            52                         5   \n",
              "3                            64                         9   \n",
              "4                            24                         7   \n",
              "\n",
              "  param_model__max_depth param_model__criterion  \\\n",
              "0                     12          squared_error   \n",
              "1                      7          squared_error   \n",
              "2                     12          squared_error   \n",
              "3                     26         absolute_error   \n",
              "4                     12         absolute_error   \n",
              "\n",
              "                                              params  split0_test_score  \\\n",
              "0  {'model__n_estimators': 580, 'model__min_sampl...      -37190.970051   \n",
              "1  {'model__n_estimators': 395, 'model__min_sampl...      -36691.873212   \n",
              "2  {'model__n_estimators': 705, 'model__min_sampl...      -43463.071892   \n",
              "3  {'model__n_estimators': 105, 'model__min_sampl...      -41661.600375   \n",
              "4  {'model__n_estimators': 350, 'model__min_sampl...      -38194.611200   \n",
              "\n",
              "   split1_test_score  split2_test_score  split3_test_score  split4_test_score  \\\n",
              "0      -36973.327234      -40666.710209      -39029.652080      -39090.513882   \n",
              "1      -36751.566632      -39927.166399      -38123.107741      -39055.807918   \n",
              "2      -40908.886833      -45580.295199      -44300.114723      -43124.347379   \n",
              "3      -39326.328175      -43550.050507      -42717.297465      -42659.816347   \n",
              "4      -37345.303231      -41729.489236      -39966.678866      -39850.971055   \n",
              "\n",
              "   mean_test_score  std_test_score  rank_test_score  \n",
              "0    -38590.234691     1365.829326                2  \n",
              "1    -38109.904380     1269.113305                1  \n",
              "2    -43475.343205     1537.603195               27  \n",
              "3    -41983.018574     1456.991649               20  \n",
              "4    -39417.410718     1524.745568                5  "
            ]
          },
          "execution_count": 34,
          "metadata": {},
          "output_type": "execute_result"
        }
      ],
      "source": [
        "# hasil dari 50 kombinasi hyperparameter\n",
        "pd.DataFrame(random_search.cv_results_).head()"
      ]
    },
    {
      "cell_type": "code",
      "execution_count": 35,
      "metadata": {
        "colab": {
          "base_uri": "https://localhost:8080/",
          "height": 444
        },
        "id": "X-lfKmzJVxBi",
        "outputId": "5850cb22-4b2d-473d-ea1e-6490a0ce6a22"
      },
      "outputs": [
        {
          "data": {
            "text/html": [
              "<div>\n",
              "<style scoped>\n",
              "    .dataframe tbody tr th:only-of-type {\n",
              "        vertical-align: middle;\n",
              "    }\n",
              "\n",
              "    .dataframe tbody tr th {\n",
              "        vertical-align: top;\n",
              "    }\n",
              "\n",
              "    .dataframe thead th {\n",
              "        text-align: right;\n",
              "    }\n",
              "</style>\n",
              "<table border=\"1\" class=\"dataframe\">\n",
              "  <thead>\n",
              "    <tr style=\"text-align: right;\">\n",
              "      <th></th>\n",
              "      <th>mean_fit_time</th>\n",
              "      <th>std_fit_time</th>\n",
              "      <th>mean_score_time</th>\n",
              "      <th>std_score_time</th>\n",
              "      <th>param_model__n_estimators</th>\n",
              "      <th>param_model__min_samples_split</th>\n",
              "      <th>param_model__min_samples_leaf</th>\n",
              "      <th>param_model__max_features</th>\n",
              "      <th>param_model__max_depth</th>\n",
              "      <th>param_model__criterion</th>\n",
              "      <th>params</th>\n",
              "      <th>split0_test_score</th>\n",
              "      <th>split1_test_score</th>\n",
              "      <th>split2_test_score</th>\n",
              "      <th>split3_test_score</th>\n",
              "      <th>split4_test_score</th>\n",
              "      <th>mean_test_score</th>\n",
              "      <th>std_test_score</th>\n",
              "      <th>rank_test_score</th>\n",
              "    </tr>\n",
              "  </thead>\n",
              "  <tbody>\n",
              "    <tr>\n",
              "      <th>1</th>\n",
              "      <td>1.206199</td>\n",
              "      <td>0.042683</td>\n",
              "      <td>0.075049</td>\n",
              "      <td>0.004545</td>\n",
              "      <td>395</td>\n",
              "      <td>22</td>\n",
              "      <td>6</td>\n",
              "      <td>8</td>\n",
              "      <td>7</td>\n",
              "      <td>squared_error</td>\n",
              "      <td>{'model__n_estimators': 395, 'model__min_sampl...</td>\n",
              "      <td>-36691.873212</td>\n",
              "      <td>-36751.566632</td>\n",
              "      <td>-39927.166399</td>\n",
              "      <td>-38123.107741</td>\n",
              "      <td>-39055.807918</td>\n",
              "      <td>-38109.904380</td>\n",
              "      <td>1269.113305</td>\n",
              "      <td>1</td>\n",
              "    </tr>\n",
              "    <tr>\n",
              "      <th>0</th>\n",
              "      <td>1.953229</td>\n",
              "      <td>0.148216</td>\n",
              "      <td>0.107704</td>\n",
              "      <td>0.004672</td>\n",
              "      <td>580</td>\n",
              "      <td>12</td>\n",
              "      <td>12</td>\n",
              "      <td>7</td>\n",
              "      <td>12</td>\n",
              "      <td>squared_error</td>\n",
              "      <td>{'model__n_estimators': 580, 'model__min_sampl...</td>\n",
              "      <td>-37190.970051</td>\n",
              "      <td>-36973.327234</td>\n",
              "      <td>-40666.710209</td>\n",
              "      <td>-39029.652080</td>\n",
              "      <td>-39090.513882</td>\n",
              "      <td>-38590.234691</td>\n",
              "      <td>1365.829326</td>\n",
              "      <td>2</td>\n",
              "    </tr>\n",
              "    <tr>\n",
              "      <th>13</th>\n",
              "      <td>25.463893</td>\n",
              "      <td>0.264608</td>\n",
              "      <td>0.104121</td>\n",
              "      <td>0.003601</td>\n",
              "      <td>715</td>\n",
              "      <td>60</td>\n",
              "      <td>16</td>\n",
              "      <td>9</td>\n",
              "      <td>36</td>\n",
              "      <td>absolute_error</td>\n",
              "      <td>{'model__n_estimators': 715, 'model__min_sampl...</td>\n",
              "      <td>-37741.386880</td>\n",
              "      <td>-37191.943156</td>\n",
              "      <td>-41231.643640</td>\n",
              "      <td>-39606.294211</td>\n",
              "      <td>-39710.011187</td>\n",
              "      <td>-39096.255815</td>\n",
              "      <td>1460.054281</td>\n",
              "      <td>3</td>\n",
              "    </tr>\n",
              "    <tr>\n",
              "      <th>32</th>\n",
              "      <td>11.893707</td>\n",
              "      <td>2.316010</td>\n",
              "      <td>0.107513</td>\n",
              "      <td>0.042456</td>\n",
              "      <td>475</td>\n",
              "      <td>22</td>\n",
              "      <td>14</td>\n",
              "      <td>3</td>\n",
              "      <td>28</td>\n",
              "      <td>absolute_error</td>\n",
              "      <td>{'model__n_estimators': 475, 'model__min_sampl...</td>\n",
              "      <td>-37705.201192</td>\n",
              "      <td>-37422.083202</td>\n",
              "      <td>-41135.507895</td>\n",
              "      <td>-40286.274481</td>\n",
              "      <td>-40096.443012</td>\n",
              "      <td>-39329.101956</td>\n",
              "      <td>1486.059768</td>\n",
              "      <td>4</td>\n",
              "    </tr>\n",
              "    <tr>\n",
              "      <th>4</th>\n",
              "      <td>10.484330</td>\n",
              "      <td>0.424350</td>\n",
              "      <td>0.057336</td>\n",
              "      <td>0.001621</td>\n",
              "      <td>350</td>\n",
              "      <td>50</td>\n",
              "      <td>24</td>\n",
              "      <td>7</td>\n",
              "      <td>12</td>\n",
              "      <td>absolute_error</td>\n",
              "      <td>{'model__n_estimators': 350, 'model__min_sampl...</td>\n",
              "      <td>-38194.611200</td>\n",
              "      <td>-37345.303231</td>\n",
              "      <td>-41729.489236</td>\n",
              "      <td>-39966.678866</td>\n",
              "      <td>-39850.971055</td>\n",
              "      <td>-39417.410718</td>\n",
              "      <td>1524.745568</td>\n",
              "      <td>5</td>\n",
              "    </tr>\n",
              "  </tbody>\n",
              "</table>\n",
              "</div>"
            ],
            "text/plain": [
              "    mean_fit_time  std_fit_time  mean_score_time  std_score_time  \\\n",
              "1        1.206199      0.042683         0.075049        0.004545   \n",
              "0        1.953229      0.148216         0.107704        0.004672   \n",
              "13      25.463893      0.264608         0.104121        0.003601   \n",
              "32      11.893707      2.316010         0.107513        0.042456   \n",
              "4       10.484330      0.424350         0.057336        0.001621   \n",
              "\n",
              "   param_model__n_estimators param_model__min_samples_split  \\\n",
              "1                        395                             22   \n",
              "0                        580                             12   \n",
              "13                       715                             60   \n",
              "32                       475                             22   \n",
              "4                        350                             50   \n",
              "\n",
              "   param_model__min_samples_leaf param_model__max_features  \\\n",
              "1                              6                         8   \n",
              "0                             12                         7   \n",
              "13                            16                         9   \n",
              "32                            14                         3   \n",
              "4                             24                         7   \n",
              "\n",
              "   param_model__max_depth param_model__criterion  \\\n",
              "1                       7          squared_error   \n",
              "0                      12          squared_error   \n",
              "13                     36         absolute_error   \n",
              "32                     28         absolute_error   \n",
              "4                      12         absolute_error   \n",
              "\n",
              "                                               params  split0_test_score  \\\n",
              "1   {'model__n_estimators': 395, 'model__min_sampl...      -36691.873212   \n",
              "0   {'model__n_estimators': 580, 'model__min_sampl...      -37190.970051   \n",
              "13  {'model__n_estimators': 715, 'model__min_sampl...      -37741.386880   \n",
              "32  {'model__n_estimators': 475, 'model__min_sampl...      -37705.201192   \n",
              "4   {'model__n_estimators': 350, 'model__min_sampl...      -38194.611200   \n",
              "\n",
              "    split1_test_score  split2_test_score  split3_test_score  \\\n",
              "1       -36751.566632      -39927.166399      -38123.107741   \n",
              "0       -36973.327234      -40666.710209      -39029.652080   \n",
              "13      -37191.943156      -41231.643640      -39606.294211   \n",
              "32      -37422.083202      -41135.507895      -40286.274481   \n",
              "4       -37345.303231      -41729.489236      -39966.678866   \n",
              "\n",
              "    split4_test_score  mean_test_score  std_test_score  rank_test_score  \n",
              "1       -39055.807918    -38109.904380     1269.113305                1  \n",
              "0       -39090.513882    -38590.234691     1365.829326                2  \n",
              "13      -39710.011187    -39096.255815     1460.054281                3  \n",
              "32      -40096.443012    -39329.101956     1486.059768                4  \n",
              "4       -39850.971055    -39417.410718     1524.745568                5  "
            ]
          },
          "execution_count": 35,
          "metadata": {},
          "output_type": "execute_result"
        }
      ],
      "source": [
        "# model dengan score tertinggi\n",
        "\n",
        "pd.DataFrame(random_search.cv_results_).sort_values(by='mean_test_score', ascending=False).head(5)"
      ]
    },
    {
      "cell_type": "markdown",
      "metadata": {
        "id": "YQ6ZS0TNVxBi"
      },
      "source": [
        "MAE di train set:\n",
        "- sebelum hyperparameter tuning: 37582 (cross validation pada benchmark model)\n",
        "- setelah hyperparameter tuning: 38109 (randomized search)\n",
        "\n",
        "Hyperparameter tuning 1 **tidak** berhasil. Berarti kita akan melakukan hyperparameter tuning 2."
      ]
    },
    {
      "cell_type": "markdown",
      "metadata": {
        "id": "y__fy13gVxBj"
      },
      "source": [
        "#### **Hyperparameter tuning ke-2**"
      ]
    },
    {
      "cell_type": "code",
      "execution_count": 36,
      "metadata": {
        "id": "ZG927BBjVxBk"
      },
      "outputs": [],
      "source": [
        "\n",
        "hyperparam_space = {\n",
        "    'model__criterion' : ['absolute_error', 'squared_error'],\n",
        "    'model__n_estimators': range(200,500,5),\n",
        "    'model__max_features': range(5,10,1),\n",
        "    'model__max_depth': range(5,20,1),\n",
        "    'model__min_samples_split': range(10, 35, 2),\n",
        "    'model__min_samples_leaf': range(2, 20, 2)\n",
        "}"
      ]
    },
    {
      "cell_type": "markdown",
      "metadata": {
        "id": "NmbbgbjI_nlE"
      },
      "source": [
        "Pada tuning ke 2 ini ada beberapa perubahan pada hyperparam_space yaitu:\n",
        "- Pada 'model__n_estimators' di hyperparameter tuning pertama range-nya mulai dari 100 s/d 1000. Sedangkan di tuning kedua  range-nya dipersempit menjadi 200 s/d 500. Alasan kenapa mempersempit di range tersebut karena pada tuning pertama parameter terbaiknya ada di 395\n",
        "- Pada 'model__max_features' di hyperparameter tuning pertama range-nya mulai dari 2 s/d 10. Sedangkan di tuning kedua  range-nya dipersempit menjadi 5 s/d 10. Alasan kenapa mempersempit di range tersebut karena pada tuning pertama parameter terbaiknya ada di 8\n",
        "- Pada 'model__max_depth' di hyperparameter tuning pertama range-nya mulai dari 1 s/d 50. Sedangkan di tuning kedua  range-nya dipersempit menjadi 5 s/d 20. Alasan kenapa mempersempit di range tersebut karena pada tuning pertama parameter terbaiknya ada di 7\n",
        "- Pada 'model__min_samples_split' di hyperparameter tuning pertama range-nya mulai dari 2 s/d 100. Sedangkan di tuning kedua  range-nya dipersempit menjadi 10 s/d 35. Alasan kenapa mempersempit di range tersebut karena pada tuning pertama parameter terbaiknya ada di 22\n",
        "- Pada 'model__min_samples_leaf' di hyperparameter tuning pertama range-nya mulai dari 2 s/d 100. Sedangkan di tuning kedua  range-nya dipersempit menjadi 2 s/d 20. Alasan kenapa mempersempit di range tersebut karena pada tuning pertama parameter terbaiknya ada di 6\n"
      ]
    },
    {
      "cell_type": "code",
      "execution_count": 37,
      "metadata": {
        "id": "GvIny5bgVxBk"
      },
      "outputs": [],
      "source": [
        "# RandomizedSearchCV\n",
        "\n",
        "pipe_model = Pipeline([\n",
        "        ('prep', transformer),\n",
        "        ('scaler', scaler),\n",
        "        ('model', rf)\n",
        "    ])\n",
        "\n",
        "random_search = RandomizedSearchCV(\n",
        "    estimator= pipe_model,\n",
        "    param_distributions= hyperparam_space,\n",
        "    cv= 5,\n",
        "    scoring= 'neg_mean_absolute_error',\n",
        "    n_jobs= -1,\n",
        "    n_iter= 100,\n",
        "    random_state= 0\n",
        ")"
      ]
    },
    {
      "cell_type": "markdown",
      "metadata": {
        "id": "464rpXuLHR37"
      },
      "source": [
        "Pada hyperparameter pertama kita menggunakan 50 kali percobaan (n-iter), pada tuning kedua menggunakan 100 kali percobaan"
      ]
    },
    {
      "cell_type": "code",
      "execution_count": 38,
      "metadata": {
        "colab": {
          "base_uri": "https://localhost:8080/"
        },
        "id": "zOgdKgQWVxBk",
        "outputId": "9863d1c3-d7b0-4054-fdb7-1caaa080a0d4"
      },
      "outputs": [
        {
          "data": {
            "text/html": [
              "<style>#sk-container-id-2 {color: black;background-color: white;}#sk-container-id-2 pre{padding: 0;}#sk-container-id-2 div.sk-toggleable {background-color: white;}#sk-container-id-2 label.sk-toggleable__label {cursor: pointer;display: block;width: 100%;margin-bottom: 0;padding: 0.3em;box-sizing: border-box;text-align: center;}#sk-container-id-2 label.sk-toggleable__label-arrow:before {content: \"▸\";float: left;margin-right: 0.25em;color: #696969;}#sk-container-id-2 label.sk-toggleable__label-arrow:hover:before {color: black;}#sk-container-id-2 div.sk-estimator:hover label.sk-toggleable__label-arrow:before {color: black;}#sk-container-id-2 div.sk-toggleable__content {max-height: 0;max-width: 0;overflow: hidden;text-align: left;background-color: #f0f8ff;}#sk-container-id-2 div.sk-toggleable__content pre {margin: 0.2em;color: black;border-radius: 0.25em;background-color: #f0f8ff;}#sk-container-id-2 input.sk-toggleable__control:checked~div.sk-toggleable__content {max-height: 200px;max-width: 100%;overflow: auto;}#sk-container-id-2 input.sk-toggleable__control:checked~label.sk-toggleable__label-arrow:before {content: \"▾\";}#sk-container-id-2 div.sk-estimator input.sk-toggleable__control:checked~label.sk-toggleable__label {background-color: #d4ebff;}#sk-container-id-2 div.sk-label input.sk-toggleable__control:checked~label.sk-toggleable__label {background-color: #d4ebff;}#sk-container-id-2 input.sk-hidden--visually {border: 0;clip: rect(1px 1px 1px 1px);clip: rect(1px, 1px, 1px, 1px);height: 1px;margin: -1px;overflow: hidden;padding: 0;position: absolute;width: 1px;}#sk-container-id-2 div.sk-estimator {font-family: monospace;background-color: #f0f8ff;border: 1px dotted black;border-radius: 0.25em;box-sizing: border-box;margin-bottom: 0.5em;}#sk-container-id-2 div.sk-estimator:hover {background-color: #d4ebff;}#sk-container-id-2 div.sk-parallel-item::after {content: \"\";width: 100%;border-bottom: 1px solid gray;flex-grow: 1;}#sk-container-id-2 div.sk-label:hover label.sk-toggleable__label {background-color: #d4ebff;}#sk-container-id-2 div.sk-serial::before {content: \"\";position: absolute;border-left: 1px solid gray;box-sizing: border-box;top: 0;bottom: 0;left: 50%;z-index: 0;}#sk-container-id-2 div.sk-serial {display: flex;flex-direction: column;align-items: center;background-color: white;padding-right: 0.2em;padding-left: 0.2em;position: relative;}#sk-container-id-2 div.sk-item {position: relative;z-index: 1;}#sk-container-id-2 div.sk-parallel {display: flex;align-items: stretch;justify-content: center;background-color: white;position: relative;}#sk-container-id-2 div.sk-item::before, #sk-container-id-2 div.sk-parallel-item::before {content: \"\";position: absolute;border-left: 1px solid gray;box-sizing: border-box;top: 0;bottom: 0;left: 50%;z-index: -1;}#sk-container-id-2 div.sk-parallel-item {display: flex;flex-direction: column;z-index: 1;position: relative;background-color: white;}#sk-container-id-2 div.sk-parallel-item:first-child::after {align-self: flex-end;width: 50%;}#sk-container-id-2 div.sk-parallel-item:last-child::after {align-self: flex-start;width: 50%;}#sk-container-id-2 div.sk-parallel-item:only-child::after {width: 0;}#sk-container-id-2 div.sk-dashed-wrapped {border: 1px dashed gray;margin: 0 0.4em 0.5em 0.4em;box-sizing: border-box;padding-bottom: 0.4em;background-color: white;}#sk-container-id-2 div.sk-label label {font-family: monospace;font-weight: bold;display: inline-block;line-height: 1.2em;}#sk-container-id-2 div.sk-label-container {text-align: center;}#sk-container-id-2 div.sk-container {/* jupyter's `normalize.less` sets `[hidden] { display: none; }` but bootstrap.min.css set `[hidden] { display: none !important; }` so we also need the `!important` here to be able to override the default hidden behavior on the sphinx rendered scikit-learn.org. See: https://github.com/scikit-learn/scikit-learn/issues/21755 */display: inline-block !important;position: relative;}#sk-container-id-2 div.sk-text-repr-fallback {display: none;}</style><div id=\"sk-container-id-2\" class=\"sk-top-container\"><div class=\"sk-text-repr-fallback\"><pre>RandomizedSearchCV(cv=5,\n",
              "                   estimator=Pipeline(steps=[(&#x27;prep&#x27;,\n",
              "                                              ColumnTransformer(remainder=&#x27;passthrough&#x27;,\n",
              "                                                                transformers=[(&#x27;onehot&#x27;,\n",
              "                                                                               OneHotEncoder(drop=&#x27;first&#x27;),\n",
              "                                                                               [&#x27;HallwayType&#x27;,\n",
              "                                                                                &#x27;TimeToSubway&#x27;,\n",
              "                                                                                &#x27;SubwayStation&#x27;])])),\n",
              "                                             (&#x27;scaler&#x27;, RobustScaler()),\n",
              "                                             (&#x27;model&#x27;,\n",
              "                                              RandomForestRegressor(random_state=0))]),\n",
              "                   n_iter=100, n_jobs=-1,\n",
              "                   param_distributions={&#x27;model__criterion&#x27;: [&#x27;absolute_error&#x27;,\n",
              "                                                             &#x27;squared_error&#x27;],\n",
              "                                        &#x27;model__max_depth&#x27;: range(5, 20),\n",
              "                                        &#x27;model__max_features&#x27;: range(5, 10),\n",
              "                                        &#x27;model__min_samples_leaf&#x27;: range(2, 20, 2),\n",
              "                                        &#x27;model__min_samples_split&#x27;: range(10, 35, 2),\n",
              "                                        &#x27;model__n_estimators&#x27;: range(200, 500, 5)},\n",
              "                   random_state=0, scoring=&#x27;neg_mean_absolute_error&#x27;)</pre><b>In a Jupyter environment, please rerun this cell to show the HTML representation or trust the notebook. <br />On GitHub, the HTML representation is unable to render, please try loading this page with nbviewer.org.</b></div><div class=\"sk-container\" hidden><div class=\"sk-item sk-dashed-wrapped\"><div class=\"sk-label-container\"><div class=\"sk-label sk-toggleable\"><input class=\"sk-toggleable__control sk-hidden--visually\" id=\"sk-estimator-id-10\" type=\"checkbox\" ><label for=\"sk-estimator-id-10\" class=\"sk-toggleable__label sk-toggleable__label-arrow\">RandomizedSearchCV</label><div class=\"sk-toggleable__content\"><pre>RandomizedSearchCV(cv=5,\n",
              "                   estimator=Pipeline(steps=[(&#x27;prep&#x27;,\n",
              "                                              ColumnTransformer(remainder=&#x27;passthrough&#x27;,\n",
              "                                                                transformers=[(&#x27;onehot&#x27;,\n",
              "                                                                               OneHotEncoder(drop=&#x27;first&#x27;),\n",
              "                                                                               [&#x27;HallwayType&#x27;,\n",
              "                                                                                &#x27;TimeToSubway&#x27;,\n",
              "                                                                                &#x27;SubwayStation&#x27;])])),\n",
              "                                             (&#x27;scaler&#x27;, RobustScaler()),\n",
              "                                             (&#x27;model&#x27;,\n",
              "                                              RandomForestRegressor(random_state=0))]),\n",
              "                   n_iter=100, n_jobs=-1,\n",
              "                   param_distributions={&#x27;model__criterion&#x27;: [&#x27;absolute_error&#x27;,\n",
              "                                                             &#x27;squared_error&#x27;],\n",
              "                                        &#x27;model__max_depth&#x27;: range(5, 20),\n",
              "                                        &#x27;model__max_features&#x27;: range(5, 10),\n",
              "                                        &#x27;model__min_samples_leaf&#x27;: range(2, 20, 2),\n",
              "                                        &#x27;model__min_samples_split&#x27;: range(10, 35, 2),\n",
              "                                        &#x27;model__n_estimators&#x27;: range(200, 500, 5)},\n",
              "                   random_state=0, scoring=&#x27;neg_mean_absolute_error&#x27;)</pre></div></div></div><div class=\"sk-parallel\"><div class=\"sk-parallel-item\"><div class=\"sk-item\"><div class=\"sk-label-container\"><div class=\"sk-label sk-toggleable\"><input class=\"sk-toggleable__control sk-hidden--visually\" id=\"sk-estimator-id-11\" type=\"checkbox\" ><label for=\"sk-estimator-id-11\" class=\"sk-toggleable__label sk-toggleable__label-arrow\">estimator: Pipeline</label><div class=\"sk-toggleable__content\"><pre>Pipeline(steps=[(&#x27;prep&#x27;,\n",
              "                 ColumnTransformer(remainder=&#x27;passthrough&#x27;,\n",
              "                                   transformers=[(&#x27;onehot&#x27;,\n",
              "                                                  OneHotEncoder(drop=&#x27;first&#x27;),\n",
              "                                                  [&#x27;HallwayType&#x27;,\n",
              "                                                   &#x27;TimeToSubway&#x27;,\n",
              "                                                   &#x27;SubwayStation&#x27;])])),\n",
              "                (&#x27;scaler&#x27;, RobustScaler()),\n",
              "                (&#x27;model&#x27;, RandomForestRegressor(random_state=0))])</pre></div></div></div><div class=\"sk-serial\"><div class=\"sk-item\"><div class=\"sk-serial\"><div class=\"sk-item sk-dashed-wrapped\"><div class=\"sk-label-container\"><div class=\"sk-label sk-toggleable\"><input class=\"sk-toggleable__control sk-hidden--visually\" id=\"sk-estimator-id-12\" type=\"checkbox\" ><label for=\"sk-estimator-id-12\" class=\"sk-toggleable__label sk-toggleable__label-arrow\">prep: ColumnTransformer</label><div class=\"sk-toggleable__content\"><pre>ColumnTransformer(remainder=&#x27;passthrough&#x27;,\n",
              "                  transformers=[(&#x27;onehot&#x27;, OneHotEncoder(drop=&#x27;first&#x27;),\n",
              "                                 [&#x27;HallwayType&#x27;, &#x27;TimeToSubway&#x27;,\n",
              "                                  &#x27;SubwayStation&#x27;])])</pre></div></div></div><div class=\"sk-parallel\"><div class=\"sk-parallel-item\"><div class=\"sk-item\"><div class=\"sk-label-container\"><div class=\"sk-label sk-toggleable\"><input class=\"sk-toggleable__control sk-hidden--visually\" id=\"sk-estimator-id-13\" type=\"checkbox\" ><label for=\"sk-estimator-id-13\" class=\"sk-toggleable__label sk-toggleable__label-arrow\">onehot</label><div class=\"sk-toggleable__content\"><pre>[&#x27;HallwayType&#x27;, &#x27;TimeToSubway&#x27;, &#x27;SubwayStation&#x27;]</pre></div></div></div><div class=\"sk-serial\"><div class=\"sk-item\"><div class=\"sk-estimator sk-toggleable\"><input class=\"sk-toggleable__control sk-hidden--visually\" id=\"sk-estimator-id-14\" type=\"checkbox\" ><label for=\"sk-estimator-id-14\" class=\"sk-toggleable__label sk-toggleable__label-arrow\">OneHotEncoder</label><div class=\"sk-toggleable__content\"><pre>OneHotEncoder(drop=&#x27;first&#x27;)</pre></div></div></div></div></div></div><div class=\"sk-parallel-item\"><div class=\"sk-item\"><div class=\"sk-label-container\"><div class=\"sk-label sk-toggleable\"><input class=\"sk-toggleable__control sk-hidden--visually\" id=\"sk-estimator-id-15\" type=\"checkbox\" ><label for=\"sk-estimator-id-15\" class=\"sk-toggleable__label sk-toggleable__label-arrow\">remainder</label><div class=\"sk-toggleable__content\"><pre></pre></div></div></div><div class=\"sk-serial\"><div class=\"sk-item\"><div class=\"sk-estimator sk-toggleable\"><input class=\"sk-toggleable__control sk-hidden--visually\" id=\"sk-estimator-id-16\" type=\"checkbox\" ><label for=\"sk-estimator-id-16\" class=\"sk-toggleable__label sk-toggleable__label-arrow\">passthrough</label><div class=\"sk-toggleable__content\"><pre>passthrough</pre></div></div></div></div></div></div></div></div><div class=\"sk-item\"><div class=\"sk-estimator sk-toggleable\"><input class=\"sk-toggleable__control sk-hidden--visually\" id=\"sk-estimator-id-17\" type=\"checkbox\" ><label for=\"sk-estimator-id-17\" class=\"sk-toggleable__label sk-toggleable__label-arrow\">RobustScaler</label><div class=\"sk-toggleable__content\"><pre>RobustScaler()</pre></div></div></div><div class=\"sk-item\"><div class=\"sk-estimator sk-toggleable\"><input class=\"sk-toggleable__control sk-hidden--visually\" id=\"sk-estimator-id-18\" type=\"checkbox\" ><label for=\"sk-estimator-id-18\" class=\"sk-toggleable__label sk-toggleable__label-arrow\">RandomForestRegressor</label><div class=\"sk-toggleable__content\"><pre>RandomForestRegressor(random_state=0)</pre></div></div></div></div></div></div></div></div></div></div></div></div>"
            ],
            "text/plain": [
              "RandomizedSearchCV(cv=5,\n",
              "                   estimator=Pipeline(steps=[('prep',\n",
              "                                              ColumnTransformer(remainder='passthrough',\n",
              "                                                                transformers=[('onehot',\n",
              "                                                                               OneHotEncoder(drop='first'),\n",
              "                                                                               ['HallwayType',\n",
              "                                                                                'TimeToSubway',\n",
              "                                                                                'SubwayStation'])])),\n",
              "                                             ('scaler', RobustScaler()),\n",
              "                                             ('model',\n",
              "                                              RandomForestRegressor(random_state=0))]),\n",
              "                   n_iter=100, n_jobs=-1,\n",
              "                   param_distributions={'model__criterion': ['absolute_error',\n",
              "                                                             'squared_error'],\n",
              "                                        'model__max_depth': range(5, 20),\n",
              "                                        'model__max_features': range(5, 10),\n",
              "                                        'model__min_samples_leaf': range(2, 20, 2),\n",
              "                                        'model__min_samples_split': range(10, 35, 2),\n",
              "                                        'model__n_estimators': range(200, 500, 5)},\n",
              "                   random_state=0, scoring='neg_mean_absolute_error')"
            ]
          },
          "execution_count": 38,
          "metadata": {},
          "output_type": "execute_result"
        }
      ],
      "source": [
        "# fit randomized_search pada train set\n",
        "\n",
        "random_search.fit(X_train, y_train)"
      ]
    },
    {
      "cell_type": "code",
      "execution_count": 39,
      "metadata": {
        "colab": {
          "base_uri": "https://localhost:8080/"
        },
        "id": "CTw2r_P-VxBl",
        "outputId": "c30df6d5-1e57-4957-c11f-a43485d9fb3c"
      },
      "outputs": [
        {
          "name": "stdout",
          "output_type": "stream",
          "text": [
            "-37298.95495113169\n",
            "{'model__n_estimators': 270, 'model__min_samples_split': 10, 'model__min_samples_leaf': 2, 'model__max_features': 5, 'model__max_depth': 15, 'model__criterion': 'absolute_error'}\n"
          ]
        }
      ],
      "source": [
        "# score terbaik hasil dari randomized_search\n",
        "print(random_search.best_score_)\n",
        "\n",
        "# hyperparameter pada score terbaik hasil dari randomized_search\n",
        "print(random_search.best_params_)"
      ]
    },
    {
      "cell_type": "code",
      "execution_count": 40,
      "metadata": {
        "colab": {
          "base_uri": "https://localhost:8080/",
          "height": 444
        },
        "id": "nCUFk5vtVxBl",
        "outputId": "04d917ce-110c-4a42-e0fe-1de67c6ebefd"
      },
      "outputs": [
        {
          "data": {
            "text/html": [
              "<div>\n",
              "<style scoped>\n",
              "    .dataframe tbody tr th:only-of-type {\n",
              "        vertical-align: middle;\n",
              "    }\n",
              "\n",
              "    .dataframe tbody tr th {\n",
              "        vertical-align: top;\n",
              "    }\n",
              "\n",
              "    .dataframe thead th {\n",
              "        text-align: right;\n",
              "    }\n",
              "</style>\n",
              "<table border=\"1\" class=\"dataframe\">\n",
              "  <thead>\n",
              "    <tr style=\"text-align: right;\">\n",
              "      <th></th>\n",
              "      <th>mean_fit_time</th>\n",
              "      <th>std_fit_time</th>\n",
              "      <th>mean_score_time</th>\n",
              "      <th>std_score_time</th>\n",
              "      <th>param_model__n_estimators</th>\n",
              "      <th>param_model__min_samples_split</th>\n",
              "      <th>param_model__min_samples_leaf</th>\n",
              "      <th>param_model__max_features</th>\n",
              "      <th>param_model__max_depth</th>\n",
              "      <th>param_model__criterion</th>\n",
              "      <th>params</th>\n",
              "      <th>split0_test_score</th>\n",
              "      <th>split1_test_score</th>\n",
              "      <th>split2_test_score</th>\n",
              "      <th>split3_test_score</th>\n",
              "      <th>split4_test_score</th>\n",
              "      <th>mean_test_score</th>\n",
              "      <th>std_test_score</th>\n",
              "      <th>rank_test_score</th>\n",
              "    </tr>\n",
              "  </thead>\n",
              "  <tbody>\n",
              "    <tr>\n",
              "      <th>0</th>\n",
              "      <td>12.909185</td>\n",
              "      <td>1.240914</td>\n",
              "      <td>0.065207</td>\n",
              "      <td>0.007753</td>\n",
              "      <td>255</td>\n",
              "      <td>34</td>\n",
              "      <td>10</td>\n",
              "      <td>8</td>\n",
              "      <td>13</td>\n",
              "      <td>absolute_error</td>\n",
              "      <td>{'model__n_estimators': 255, 'model__min_sampl...</td>\n",
              "      <td>-36755.640092</td>\n",
              "      <td>-36596.752224</td>\n",
              "      <td>-39938.827560</td>\n",
              "      <td>-38842.483647</td>\n",
              "      <td>-39063.669231</td>\n",
              "      <td>-38239.474551</td>\n",
              "      <td>1328.985992</td>\n",
              "      <td>48</td>\n",
              "    </tr>\n",
              "    <tr>\n",
              "      <th>1</th>\n",
              "      <td>13.970930</td>\n",
              "      <td>1.040494</td>\n",
              "      <td>0.077785</td>\n",
              "      <td>0.007370</td>\n",
              "      <td>460</td>\n",
              "      <td>14</td>\n",
              "      <td>16</td>\n",
              "      <td>6</td>\n",
              "      <td>8</td>\n",
              "      <td>absolute_error</td>\n",
              "      <td>{'model__n_estimators': 460, 'model__min_sampl...</td>\n",
              "      <td>-37461.306406</td>\n",
              "      <td>-37062.820582</td>\n",
              "      <td>-40697.564430</td>\n",
              "      <td>-39607.570146</td>\n",
              "      <td>-39790.430457</td>\n",
              "      <td>-38923.938404</td>\n",
              "      <td>1411.875492</td>\n",
              "      <td>79</td>\n",
              "    </tr>\n",
              "    <tr>\n",
              "      <th>2</th>\n",
              "      <td>1.130617</td>\n",
              "      <td>0.056375</td>\n",
              "      <td>0.068595</td>\n",
              "      <td>0.005970</td>\n",
              "      <td>375</td>\n",
              "      <td>12</td>\n",
              "      <td>6</td>\n",
              "      <td>7</td>\n",
              "      <td>17</td>\n",
              "      <td>squared_error</td>\n",
              "      <td>{'model__n_estimators': 375, 'model__min_sampl...</td>\n",
              "      <td>-36738.624704</td>\n",
              "      <td>-36336.518984</td>\n",
              "      <td>-39845.859919</td>\n",
              "      <td>-38008.438973</td>\n",
              "      <td>-39232.544678</td>\n",
              "      <td>-38032.397451</td>\n",
              "      <td>1362.308716</td>\n",
              "      <td>28</td>\n",
              "    </tr>\n",
              "    <tr>\n",
              "      <th>3</th>\n",
              "      <td>10.426850</td>\n",
              "      <td>0.142632</td>\n",
              "      <td>0.060980</td>\n",
              "      <td>0.001522</td>\n",
              "      <td>375</td>\n",
              "      <td>16</td>\n",
              "      <td>14</td>\n",
              "      <td>6</td>\n",
              "      <td>9</td>\n",
              "      <td>absolute_error</td>\n",
              "      <td>{'model__n_estimators': 375, 'model__min_sampl...</td>\n",
              "      <td>-37060.887522</td>\n",
              "      <td>-36854.478571</td>\n",
              "      <td>-40367.296253</td>\n",
              "      <td>-39335.508481</td>\n",
              "      <td>-39530.407679</td>\n",
              "      <td>-38629.715701</td>\n",
              "      <td>1410.054211</td>\n",
              "      <td>64</td>\n",
              "    </tr>\n",
              "    <tr>\n",
              "      <th>4</th>\n",
              "      <td>9.262300</td>\n",
              "      <td>0.113322</td>\n",
              "      <td>0.060826</td>\n",
              "      <td>0.017166</td>\n",
              "      <td>315</td>\n",
              "      <td>16</td>\n",
              "      <td>6</td>\n",
              "      <td>6</td>\n",
              "      <td>15</td>\n",
              "      <td>absolute_error</td>\n",
              "      <td>{'model__n_estimators': 315, 'model__min_sampl...</td>\n",
              "      <td>-36084.789256</td>\n",
              "      <td>-35878.047597</td>\n",
              "      <td>-39299.762188</td>\n",
              "      <td>-38280.852385</td>\n",
              "      <td>-39139.599809</td>\n",
              "      <td>-37736.610247</td>\n",
              "      <td>1475.858456</td>\n",
              "      <td>7</td>\n",
              "    </tr>\n",
              "  </tbody>\n",
              "</table>\n",
              "</div>"
            ],
            "text/plain": [
              "   mean_fit_time  std_fit_time  mean_score_time  std_score_time  \\\n",
              "0      12.909185      1.240914         0.065207        0.007753   \n",
              "1      13.970930      1.040494         0.077785        0.007370   \n",
              "2       1.130617      0.056375         0.068595        0.005970   \n",
              "3      10.426850      0.142632         0.060980        0.001522   \n",
              "4       9.262300      0.113322         0.060826        0.017166   \n",
              "\n",
              "  param_model__n_estimators param_model__min_samples_split  \\\n",
              "0                       255                             34   \n",
              "1                       460                             14   \n",
              "2                       375                             12   \n",
              "3                       375                             16   \n",
              "4                       315                             16   \n",
              "\n",
              "  param_model__min_samples_leaf param_model__max_features  \\\n",
              "0                            10                         8   \n",
              "1                            16                         6   \n",
              "2                             6                         7   \n",
              "3                            14                         6   \n",
              "4                             6                         6   \n",
              "\n",
              "  param_model__max_depth param_model__criterion  \\\n",
              "0                     13         absolute_error   \n",
              "1                      8         absolute_error   \n",
              "2                     17          squared_error   \n",
              "3                      9         absolute_error   \n",
              "4                     15         absolute_error   \n",
              "\n",
              "                                              params  split0_test_score  \\\n",
              "0  {'model__n_estimators': 255, 'model__min_sampl...      -36755.640092   \n",
              "1  {'model__n_estimators': 460, 'model__min_sampl...      -37461.306406   \n",
              "2  {'model__n_estimators': 375, 'model__min_sampl...      -36738.624704   \n",
              "3  {'model__n_estimators': 375, 'model__min_sampl...      -37060.887522   \n",
              "4  {'model__n_estimators': 315, 'model__min_sampl...      -36084.789256   \n",
              "\n",
              "   split1_test_score  split2_test_score  split3_test_score  split4_test_score  \\\n",
              "0      -36596.752224      -39938.827560      -38842.483647      -39063.669231   \n",
              "1      -37062.820582      -40697.564430      -39607.570146      -39790.430457   \n",
              "2      -36336.518984      -39845.859919      -38008.438973      -39232.544678   \n",
              "3      -36854.478571      -40367.296253      -39335.508481      -39530.407679   \n",
              "4      -35878.047597      -39299.762188      -38280.852385      -39139.599809   \n",
              "\n",
              "   mean_test_score  std_test_score  rank_test_score  \n",
              "0    -38239.474551     1328.985992               48  \n",
              "1    -38923.938404     1411.875492               79  \n",
              "2    -38032.397451     1362.308716               28  \n",
              "3    -38629.715701     1410.054211               64  \n",
              "4    -37736.610247     1475.858456                7  "
            ]
          },
          "execution_count": 40,
          "metadata": {},
          "output_type": "execute_result"
        }
      ],
      "source": [
        "# hasil dari 100 kombinasi hyperparameter\n",
        "pd.DataFrame(random_search.cv_results_).head()"
      ]
    },
    {
      "cell_type": "markdown",
      "metadata": {
        "id": "0uV3MrO3IB9k"
      },
      "source": [
        "MAE di train set:\n",
        "- sebelum hyperparameter tuning: 37582 (cross validation pada benchmark model)\n",
        "- setelah hyperparameter tuning 1: 38109 (randomized search)\n",
        "- setelah hyperparameter tuning 2: 37298 (randomized search)\n",
        "\n",
        "Hyperparameter tuning 2 **berhasil**"
      ]
    },
    {
      "cell_type": "markdown",
      "metadata": {
        "id": "V7-GAYBzVxBl"
      },
      "source": [
        "#### **Model Performance in Test Set**"
      ]
    },
    {
      "cell_type": "code",
      "execution_count": 41,
      "metadata": {
        "id": "IV4IRJ2IVxBm"
      },
      "outputs": [],
      "source": [
        "# model benchmark\n",
        "rf = RandomForestRegressor(criterion='absolute_error', min_samples_leaf=1, max_depth=5, random_state=0)\n",
        "\n",
        "# model benchmark\n",
        "pipe_model = Pipeline([\n",
        "    ('preprocess', transformer),\n",
        "    ('scaler', RobustScaler()),\n",
        "    ('model', rf)\n",
        "])"
      ]
    },
    {
      "cell_type": "code",
      "execution_count": 42,
      "metadata": {
        "colab": {
          "base_uri": "https://localhost:8080/"
        },
        "id": "IjJb6fZ1ak4H",
        "outputId": "7e2f638f-efda-477c-e136-88fdc762660c"
      },
      "outputs": [
        {
          "data": {
            "text/html": [
              "<style>#sk-container-id-3 {color: black;background-color: white;}#sk-container-id-3 pre{padding: 0;}#sk-container-id-3 div.sk-toggleable {background-color: white;}#sk-container-id-3 label.sk-toggleable__label {cursor: pointer;display: block;width: 100%;margin-bottom: 0;padding: 0.3em;box-sizing: border-box;text-align: center;}#sk-container-id-3 label.sk-toggleable__label-arrow:before {content: \"▸\";float: left;margin-right: 0.25em;color: #696969;}#sk-container-id-3 label.sk-toggleable__label-arrow:hover:before {color: black;}#sk-container-id-3 div.sk-estimator:hover label.sk-toggleable__label-arrow:before {color: black;}#sk-container-id-3 div.sk-toggleable__content {max-height: 0;max-width: 0;overflow: hidden;text-align: left;background-color: #f0f8ff;}#sk-container-id-3 div.sk-toggleable__content pre {margin: 0.2em;color: black;border-radius: 0.25em;background-color: #f0f8ff;}#sk-container-id-3 input.sk-toggleable__control:checked~div.sk-toggleable__content {max-height: 200px;max-width: 100%;overflow: auto;}#sk-container-id-3 input.sk-toggleable__control:checked~label.sk-toggleable__label-arrow:before {content: \"▾\";}#sk-container-id-3 div.sk-estimator input.sk-toggleable__control:checked~label.sk-toggleable__label {background-color: #d4ebff;}#sk-container-id-3 div.sk-label input.sk-toggleable__control:checked~label.sk-toggleable__label {background-color: #d4ebff;}#sk-container-id-3 input.sk-hidden--visually {border: 0;clip: rect(1px 1px 1px 1px);clip: rect(1px, 1px, 1px, 1px);height: 1px;margin: -1px;overflow: hidden;padding: 0;position: absolute;width: 1px;}#sk-container-id-3 div.sk-estimator {font-family: monospace;background-color: #f0f8ff;border: 1px dotted black;border-radius: 0.25em;box-sizing: border-box;margin-bottom: 0.5em;}#sk-container-id-3 div.sk-estimator:hover {background-color: #d4ebff;}#sk-container-id-3 div.sk-parallel-item::after {content: \"\";width: 100%;border-bottom: 1px solid gray;flex-grow: 1;}#sk-container-id-3 div.sk-label:hover label.sk-toggleable__label {background-color: #d4ebff;}#sk-container-id-3 div.sk-serial::before {content: \"\";position: absolute;border-left: 1px solid gray;box-sizing: border-box;top: 0;bottom: 0;left: 50%;z-index: 0;}#sk-container-id-3 div.sk-serial {display: flex;flex-direction: column;align-items: center;background-color: white;padding-right: 0.2em;padding-left: 0.2em;position: relative;}#sk-container-id-3 div.sk-item {position: relative;z-index: 1;}#sk-container-id-3 div.sk-parallel {display: flex;align-items: stretch;justify-content: center;background-color: white;position: relative;}#sk-container-id-3 div.sk-item::before, #sk-container-id-3 div.sk-parallel-item::before {content: \"\";position: absolute;border-left: 1px solid gray;box-sizing: border-box;top: 0;bottom: 0;left: 50%;z-index: -1;}#sk-container-id-3 div.sk-parallel-item {display: flex;flex-direction: column;z-index: 1;position: relative;background-color: white;}#sk-container-id-3 div.sk-parallel-item:first-child::after {align-self: flex-end;width: 50%;}#sk-container-id-3 div.sk-parallel-item:last-child::after {align-self: flex-start;width: 50%;}#sk-container-id-3 div.sk-parallel-item:only-child::after {width: 0;}#sk-container-id-3 div.sk-dashed-wrapped {border: 1px dashed gray;margin: 0 0.4em 0.5em 0.4em;box-sizing: border-box;padding-bottom: 0.4em;background-color: white;}#sk-container-id-3 div.sk-label label {font-family: monospace;font-weight: bold;display: inline-block;line-height: 1.2em;}#sk-container-id-3 div.sk-label-container {text-align: center;}#sk-container-id-3 div.sk-container {/* jupyter's `normalize.less` sets `[hidden] { display: none; }` but bootstrap.min.css set `[hidden] { display: none !important; }` so we also need the `!important` here to be able to override the default hidden behavior on the sphinx rendered scikit-learn.org. See: https://github.com/scikit-learn/scikit-learn/issues/21755 */display: inline-block !important;position: relative;}#sk-container-id-3 div.sk-text-repr-fallback {display: none;}</style><div id=\"sk-container-id-3\" class=\"sk-top-container\"><div class=\"sk-text-repr-fallback\"><pre>Pipeline(steps=[(&#x27;preprocess&#x27;,\n",
              "                 ColumnTransformer(remainder=&#x27;passthrough&#x27;,\n",
              "                                   transformers=[(&#x27;onehot&#x27;,\n",
              "                                                  OneHotEncoder(drop=&#x27;first&#x27;),\n",
              "                                                  [&#x27;HallwayType&#x27;,\n",
              "                                                   &#x27;TimeToSubway&#x27;,\n",
              "                                                   &#x27;SubwayStation&#x27;])])),\n",
              "                (&#x27;scaler&#x27;, RobustScaler()),\n",
              "                (&#x27;model&#x27;,\n",
              "                 RandomForestRegressor(criterion=&#x27;absolute_error&#x27;, max_depth=5,\n",
              "                                       random_state=0))])</pre><b>In a Jupyter environment, please rerun this cell to show the HTML representation or trust the notebook. <br />On GitHub, the HTML representation is unable to render, please try loading this page with nbviewer.org.</b></div><div class=\"sk-container\" hidden><div class=\"sk-item sk-dashed-wrapped\"><div class=\"sk-label-container\"><div class=\"sk-label sk-toggleable\"><input class=\"sk-toggleable__control sk-hidden--visually\" id=\"sk-estimator-id-19\" type=\"checkbox\" ><label for=\"sk-estimator-id-19\" class=\"sk-toggleable__label sk-toggleable__label-arrow\">Pipeline</label><div class=\"sk-toggleable__content\"><pre>Pipeline(steps=[(&#x27;preprocess&#x27;,\n",
              "                 ColumnTransformer(remainder=&#x27;passthrough&#x27;,\n",
              "                                   transformers=[(&#x27;onehot&#x27;,\n",
              "                                                  OneHotEncoder(drop=&#x27;first&#x27;),\n",
              "                                                  [&#x27;HallwayType&#x27;,\n",
              "                                                   &#x27;TimeToSubway&#x27;,\n",
              "                                                   &#x27;SubwayStation&#x27;])])),\n",
              "                (&#x27;scaler&#x27;, RobustScaler()),\n",
              "                (&#x27;model&#x27;,\n",
              "                 RandomForestRegressor(criterion=&#x27;absolute_error&#x27;, max_depth=5,\n",
              "                                       random_state=0))])</pre></div></div></div><div class=\"sk-serial\"><div class=\"sk-item sk-dashed-wrapped\"><div class=\"sk-label-container\"><div class=\"sk-label sk-toggleable\"><input class=\"sk-toggleable__control sk-hidden--visually\" id=\"sk-estimator-id-20\" type=\"checkbox\" ><label for=\"sk-estimator-id-20\" class=\"sk-toggleable__label sk-toggleable__label-arrow\">preprocess: ColumnTransformer</label><div class=\"sk-toggleable__content\"><pre>ColumnTransformer(remainder=&#x27;passthrough&#x27;,\n",
              "                  transformers=[(&#x27;onehot&#x27;, OneHotEncoder(drop=&#x27;first&#x27;),\n",
              "                                 [&#x27;HallwayType&#x27;, &#x27;TimeToSubway&#x27;,\n",
              "                                  &#x27;SubwayStation&#x27;])])</pre></div></div></div><div class=\"sk-parallel\"><div class=\"sk-parallel-item\"><div class=\"sk-item\"><div class=\"sk-label-container\"><div class=\"sk-label sk-toggleable\"><input class=\"sk-toggleable__control sk-hidden--visually\" id=\"sk-estimator-id-21\" type=\"checkbox\" ><label for=\"sk-estimator-id-21\" class=\"sk-toggleable__label sk-toggleable__label-arrow\">onehot</label><div class=\"sk-toggleable__content\"><pre>[&#x27;HallwayType&#x27;, &#x27;TimeToSubway&#x27;, &#x27;SubwayStation&#x27;]</pre></div></div></div><div class=\"sk-serial\"><div class=\"sk-item\"><div class=\"sk-estimator sk-toggleable\"><input class=\"sk-toggleable__control sk-hidden--visually\" id=\"sk-estimator-id-22\" type=\"checkbox\" ><label for=\"sk-estimator-id-22\" class=\"sk-toggleable__label sk-toggleable__label-arrow\">OneHotEncoder</label><div class=\"sk-toggleable__content\"><pre>OneHotEncoder(drop=&#x27;first&#x27;)</pre></div></div></div></div></div></div><div class=\"sk-parallel-item\"><div class=\"sk-item\"><div class=\"sk-label-container\"><div class=\"sk-label sk-toggleable\"><input class=\"sk-toggleable__control sk-hidden--visually\" id=\"sk-estimator-id-23\" type=\"checkbox\" ><label for=\"sk-estimator-id-23\" class=\"sk-toggleable__label sk-toggleable__label-arrow\">remainder</label><div class=\"sk-toggleable__content\"><pre>[&#x27;N_FacilitiesNearBy(ETC)&#x27;, &#x27;N_FacilitiesNearBy(PublicOffice)&#x27;, &#x27;N_SchoolNearBy(University)&#x27;, &#x27;N_Parkinglot(Basement)&#x27;, &#x27;YearBuilt&#x27;, &#x27;N_FacilitiesInApt&#x27;, &#x27;Size(sqf)&#x27;]</pre></div></div></div><div class=\"sk-serial\"><div class=\"sk-item\"><div class=\"sk-estimator sk-toggleable\"><input class=\"sk-toggleable__control sk-hidden--visually\" id=\"sk-estimator-id-24\" type=\"checkbox\" ><label for=\"sk-estimator-id-24\" class=\"sk-toggleable__label sk-toggleable__label-arrow\">passthrough</label><div class=\"sk-toggleable__content\"><pre>passthrough</pre></div></div></div></div></div></div></div></div><div class=\"sk-item\"><div class=\"sk-estimator sk-toggleable\"><input class=\"sk-toggleable__control sk-hidden--visually\" id=\"sk-estimator-id-25\" type=\"checkbox\" ><label for=\"sk-estimator-id-25\" class=\"sk-toggleable__label sk-toggleable__label-arrow\">RobustScaler</label><div class=\"sk-toggleable__content\"><pre>RobustScaler()</pre></div></div></div><div class=\"sk-item\"><div class=\"sk-estimator sk-toggleable\"><input class=\"sk-toggleable__control sk-hidden--visually\" id=\"sk-estimator-id-26\" type=\"checkbox\" ><label for=\"sk-estimator-id-26\" class=\"sk-toggleable__label sk-toggleable__label-arrow\">RandomForestRegressor</label><div class=\"sk-toggleable__content\"><pre>RandomForestRegressor(criterion=&#x27;absolute_error&#x27;, max_depth=5, random_state=0)</pre></div></div></div></div></div></div></div>"
            ],
            "text/plain": [
              "Pipeline(steps=[('preprocess',\n",
              "                 ColumnTransformer(remainder='passthrough',\n",
              "                                   transformers=[('onehot',\n",
              "                                                  OneHotEncoder(drop='first'),\n",
              "                                                  ['HallwayType',\n",
              "                                                   'TimeToSubway',\n",
              "                                                   'SubwayStation'])])),\n",
              "                ('scaler', RobustScaler()),\n",
              "                ('model',\n",
              "                 RandomForestRegressor(criterion='absolute_error', max_depth=5,\n",
              "                                       random_state=0))])"
            ]
          },
          "execution_count": 42,
          "metadata": {},
          "output_type": "execute_result"
        }
      ],
      "source": [
        "# fitting\n",
        "pipe_model.fit(X_train, y_train)"
      ]
    },
    {
      "cell_type": "code",
      "execution_count": 43,
      "metadata": {
        "id": "V-T-PwsRVxBm"
      },
      "outputs": [],
      "source": [
        "# predict\n",
        "y_pred = pipe_model.predict(X_test)"
      ]
    },
    {
      "cell_type": "code",
      "execution_count": 44,
      "metadata": {
        "colab": {
          "base_uri": "https://localhost:8080/",
          "height": 81
        },
        "id": "WPG-EaqzVxBn",
        "outputId": "26b60a60-e39d-4230-8962-dad9ab50c4a4"
      },
      "outputs": [
        {
          "data": {
            "text/html": [
              "<div>\n",
              "<style scoped>\n",
              "    .dataframe tbody tr th:only-of-type {\n",
              "        vertical-align: middle;\n",
              "    }\n",
              "\n",
              "    .dataframe tbody tr th {\n",
              "        vertical-align: top;\n",
              "    }\n",
              "\n",
              "    .dataframe thead th {\n",
              "        text-align: right;\n",
              "    }\n",
              "</style>\n",
              "<table border=\"1\" class=\"dataframe\">\n",
              "  <thead>\n",
              "    <tr style=\"text-align: right;\">\n",
              "      <th></th>\n",
              "      <th>RMSE</th>\n",
              "      <th>MAE</th>\n",
              "      <th>MAPE</th>\n",
              "    </tr>\n",
              "  </thead>\n",
              "  <tbody>\n",
              "    <tr>\n",
              "      <th>0</th>\n",
              "      <td>51297.16533</td>\n",
              "      <td>38812.506978</td>\n",
              "      <td>0.193426</td>\n",
              "    </tr>\n",
              "  </tbody>\n",
              "</table>\n",
              "</div>"
            ],
            "text/plain": [
              "          RMSE           MAE      MAPE\n",
              "0  51297.16533  38812.506978  0.193426"
            ]
          },
          "execution_count": 44,
          "metadata": {},
          "output_type": "execute_result"
        }
      ],
      "source": [
        "# Metric evaluation\n",
        "mse = mean_squared_error(y_test, y_pred)\n",
        "rmse = np.sqrt(mse)\n",
        "mae = mean_absolute_error(y_test, y_pred)\n",
        "mape = mean_absolute_percentage_error(y_test, y_pred)\n",
        "\n",
        "before_tuning = pd.DataFrame({'RMSE': rmse, 'MAE': mae, 'MAPE': mape},index=[0])\n",
        "before_tuning"
      ]
    },
    {
      "cell_type": "code",
      "execution_count": 45,
      "metadata": {
        "id": "krrfqQ-J_sNi"
      },
      "outputs": [],
      "source": [
        "final_model = random_search.best_estimator_ "
      ]
    },
    {
      "cell_type": "code",
      "execution_count": 46,
      "metadata": {
        "colab": {
          "base_uri": "https://localhost:8080/"
        },
        "id": "34usoMSA_tEN",
        "outputId": "64ea24b3-3b08-4d92-e9ba-39a9bc41d299"
      },
      "outputs": [
        {
          "data": {
            "text/html": [
              "<style>#sk-container-id-4 {color: black;background-color: white;}#sk-container-id-4 pre{padding: 0;}#sk-container-id-4 div.sk-toggleable {background-color: white;}#sk-container-id-4 label.sk-toggleable__label {cursor: pointer;display: block;width: 100%;margin-bottom: 0;padding: 0.3em;box-sizing: border-box;text-align: center;}#sk-container-id-4 label.sk-toggleable__label-arrow:before {content: \"▸\";float: left;margin-right: 0.25em;color: #696969;}#sk-container-id-4 label.sk-toggleable__label-arrow:hover:before {color: black;}#sk-container-id-4 div.sk-estimator:hover label.sk-toggleable__label-arrow:before {color: black;}#sk-container-id-4 div.sk-toggleable__content {max-height: 0;max-width: 0;overflow: hidden;text-align: left;background-color: #f0f8ff;}#sk-container-id-4 div.sk-toggleable__content pre {margin: 0.2em;color: black;border-radius: 0.25em;background-color: #f0f8ff;}#sk-container-id-4 input.sk-toggleable__control:checked~div.sk-toggleable__content {max-height: 200px;max-width: 100%;overflow: auto;}#sk-container-id-4 input.sk-toggleable__control:checked~label.sk-toggleable__label-arrow:before {content: \"▾\";}#sk-container-id-4 div.sk-estimator input.sk-toggleable__control:checked~label.sk-toggleable__label {background-color: #d4ebff;}#sk-container-id-4 div.sk-label input.sk-toggleable__control:checked~label.sk-toggleable__label {background-color: #d4ebff;}#sk-container-id-4 input.sk-hidden--visually {border: 0;clip: rect(1px 1px 1px 1px);clip: rect(1px, 1px, 1px, 1px);height: 1px;margin: -1px;overflow: hidden;padding: 0;position: absolute;width: 1px;}#sk-container-id-4 div.sk-estimator {font-family: monospace;background-color: #f0f8ff;border: 1px dotted black;border-radius: 0.25em;box-sizing: border-box;margin-bottom: 0.5em;}#sk-container-id-4 div.sk-estimator:hover {background-color: #d4ebff;}#sk-container-id-4 div.sk-parallel-item::after {content: \"\";width: 100%;border-bottom: 1px solid gray;flex-grow: 1;}#sk-container-id-4 div.sk-label:hover label.sk-toggleable__label {background-color: #d4ebff;}#sk-container-id-4 div.sk-serial::before {content: \"\";position: absolute;border-left: 1px solid gray;box-sizing: border-box;top: 0;bottom: 0;left: 50%;z-index: 0;}#sk-container-id-4 div.sk-serial {display: flex;flex-direction: column;align-items: center;background-color: white;padding-right: 0.2em;padding-left: 0.2em;position: relative;}#sk-container-id-4 div.sk-item {position: relative;z-index: 1;}#sk-container-id-4 div.sk-parallel {display: flex;align-items: stretch;justify-content: center;background-color: white;position: relative;}#sk-container-id-4 div.sk-item::before, #sk-container-id-4 div.sk-parallel-item::before {content: \"\";position: absolute;border-left: 1px solid gray;box-sizing: border-box;top: 0;bottom: 0;left: 50%;z-index: -1;}#sk-container-id-4 div.sk-parallel-item {display: flex;flex-direction: column;z-index: 1;position: relative;background-color: white;}#sk-container-id-4 div.sk-parallel-item:first-child::after {align-self: flex-end;width: 50%;}#sk-container-id-4 div.sk-parallel-item:last-child::after {align-self: flex-start;width: 50%;}#sk-container-id-4 div.sk-parallel-item:only-child::after {width: 0;}#sk-container-id-4 div.sk-dashed-wrapped {border: 1px dashed gray;margin: 0 0.4em 0.5em 0.4em;box-sizing: border-box;padding-bottom: 0.4em;background-color: white;}#sk-container-id-4 div.sk-label label {font-family: monospace;font-weight: bold;display: inline-block;line-height: 1.2em;}#sk-container-id-4 div.sk-label-container {text-align: center;}#sk-container-id-4 div.sk-container {/* jupyter's `normalize.less` sets `[hidden] { display: none; }` but bootstrap.min.css set `[hidden] { display: none !important; }` so we also need the `!important` here to be able to override the default hidden behavior on the sphinx rendered scikit-learn.org. See: https://github.com/scikit-learn/scikit-learn/issues/21755 */display: inline-block !important;position: relative;}#sk-container-id-4 div.sk-text-repr-fallback {display: none;}</style><div id=\"sk-container-id-4\" class=\"sk-top-container\"><div class=\"sk-text-repr-fallback\"><pre>Pipeline(steps=[(&#x27;prep&#x27;,\n",
              "                 ColumnTransformer(remainder=&#x27;passthrough&#x27;,\n",
              "                                   transformers=[(&#x27;onehot&#x27;,\n",
              "                                                  OneHotEncoder(drop=&#x27;first&#x27;),\n",
              "                                                  [&#x27;HallwayType&#x27;,\n",
              "                                                   &#x27;TimeToSubway&#x27;,\n",
              "                                                   &#x27;SubwayStation&#x27;])])),\n",
              "                (&#x27;scaler&#x27;, RobustScaler()),\n",
              "                (&#x27;model&#x27;,\n",
              "                 RandomForestRegressor(criterion=&#x27;absolute_error&#x27;, max_depth=15,\n",
              "                                       max_features=5, min_samples_leaf=2,\n",
              "                                       min_samples_split=10, n_estimators=270,\n",
              "                                       random_state=0))])</pre><b>In a Jupyter environment, please rerun this cell to show the HTML representation or trust the notebook. <br />On GitHub, the HTML representation is unable to render, please try loading this page with nbviewer.org.</b></div><div class=\"sk-container\" hidden><div class=\"sk-item sk-dashed-wrapped\"><div class=\"sk-label-container\"><div class=\"sk-label sk-toggleable\"><input class=\"sk-toggleable__control sk-hidden--visually\" id=\"sk-estimator-id-27\" type=\"checkbox\" ><label for=\"sk-estimator-id-27\" class=\"sk-toggleable__label sk-toggleable__label-arrow\">Pipeline</label><div class=\"sk-toggleable__content\"><pre>Pipeline(steps=[(&#x27;prep&#x27;,\n",
              "                 ColumnTransformer(remainder=&#x27;passthrough&#x27;,\n",
              "                                   transformers=[(&#x27;onehot&#x27;,\n",
              "                                                  OneHotEncoder(drop=&#x27;first&#x27;),\n",
              "                                                  [&#x27;HallwayType&#x27;,\n",
              "                                                   &#x27;TimeToSubway&#x27;,\n",
              "                                                   &#x27;SubwayStation&#x27;])])),\n",
              "                (&#x27;scaler&#x27;, RobustScaler()),\n",
              "                (&#x27;model&#x27;,\n",
              "                 RandomForestRegressor(criterion=&#x27;absolute_error&#x27;, max_depth=15,\n",
              "                                       max_features=5, min_samples_leaf=2,\n",
              "                                       min_samples_split=10, n_estimators=270,\n",
              "                                       random_state=0))])</pre></div></div></div><div class=\"sk-serial\"><div class=\"sk-item sk-dashed-wrapped\"><div class=\"sk-label-container\"><div class=\"sk-label sk-toggleable\"><input class=\"sk-toggleable__control sk-hidden--visually\" id=\"sk-estimator-id-28\" type=\"checkbox\" ><label for=\"sk-estimator-id-28\" class=\"sk-toggleable__label sk-toggleable__label-arrow\">prep: ColumnTransformer</label><div class=\"sk-toggleable__content\"><pre>ColumnTransformer(remainder=&#x27;passthrough&#x27;,\n",
              "                  transformers=[(&#x27;onehot&#x27;, OneHotEncoder(drop=&#x27;first&#x27;),\n",
              "                                 [&#x27;HallwayType&#x27;, &#x27;TimeToSubway&#x27;,\n",
              "                                  &#x27;SubwayStation&#x27;])])</pre></div></div></div><div class=\"sk-parallel\"><div class=\"sk-parallel-item\"><div class=\"sk-item\"><div class=\"sk-label-container\"><div class=\"sk-label sk-toggleable\"><input class=\"sk-toggleable__control sk-hidden--visually\" id=\"sk-estimator-id-29\" type=\"checkbox\" ><label for=\"sk-estimator-id-29\" class=\"sk-toggleable__label sk-toggleable__label-arrow\">onehot</label><div class=\"sk-toggleable__content\"><pre>[&#x27;HallwayType&#x27;, &#x27;TimeToSubway&#x27;, &#x27;SubwayStation&#x27;]</pre></div></div></div><div class=\"sk-serial\"><div class=\"sk-item\"><div class=\"sk-estimator sk-toggleable\"><input class=\"sk-toggleable__control sk-hidden--visually\" id=\"sk-estimator-id-30\" type=\"checkbox\" ><label for=\"sk-estimator-id-30\" class=\"sk-toggleable__label sk-toggleable__label-arrow\">OneHotEncoder</label><div class=\"sk-toggleable__content\"><pre>OneHotEncoder(drop=&#x27;first&#x27;)</pre></div></div></div></div></div></div><div class=\"sk-parallel-item\"><div class=\"sk-item\"><div class=\"sk-label-container\"><div class=\"sk-label sk-toggleable\"><input class=\"sk-toggleable__control sk-hidden--visually\" id=\"sk-estimator-id-31\" type=\"checkbox\" ><label for=\"sk-estimator-id-31\" class=\"sk-toggleable__label sk-toggleable__label-arrow\">remainder</label><div class=\"sk-toggleable__content\"><pre>[&#x27;N_FacilitiesNearBy(ETC)&#x27;, &#x27;N_FacilitiesNearBy(PublicOffice)&#x27;, &#x27;N_SchoolNearBy(University)&#x27;, &#x27;N_Parkinglot(Basement)&#x27;, &#x27;YearBuilt&#x27;, &#x27;N_FacilitiesInApt&#x27;, &#x27;Size(sqf)&#x27;]</pre></div></div></div><div class=\"sk-serial\"><div class=\"sk-item\"><div class=\"sk-estimator sk-toggleable\"><input class=\"sk-toggleable__control sk-hidden--visually\" id=\"sk-estimator-id-32\" type=\"checkbox\" ><label for=\"sk-estimator-id-32\" class=\"sk-toggleable__label sk-toggleable__label-arrow\">passthrough</label><div class=\"sk-toggleable__content\"><pre>passthrough</pre></div></div></div></div></div></div></div></div><div class=\"sk-item\"><div class=\"sk-estimator sk-toggleable\"><input class=\"sk-toggleable__control sk-hidden--visually\" id=\"sk-estimator-id-33\" type=\"checkbox\" ><label for=\"sk-estimator-id-33\" class=\"sk-toggleable__label sk-toggleable__label-arrow\">RobustScaler</label><div class=\"sk-toggleable__content\"><pre>RobustScaler()</pre></div></div></div><div class=\"sk-item\"><div class=\"sk-estimator sk-toggleable\"><input class=\"sk-toggleable__control sk-hidden--visually\" id=\"sk-estimator-id-34\" type=\"checkbox\" ><label for=\"sk-estimator-id-34\" class=\"sk-toggleable__label sk-toggleable__label-arrow\">RandomForestRegressor</label><div class=\"sk-toggleable__content\"><pre>RandomForestRegressor(criterion=&#x27;absolute_error&#x27;, max_depth=15, max_features=5,\n",
              "                      min_samples_leaf=2, min_samples_split=10,\n",
              "                      n_estimators=270, random_state=0)</pre></div></div></div></div></div></div></div>"
            ],
            "text/plain": [
              "Pipeline(steps=[('prep',\n",
              "                 ColumnTransformer(remainder='passthrough',\n",
              "                                   transformers=[('onehot',\n",
              "                                                  OneHotEncoder(drop='first'),\n",
              "                                                  ['HallwayType',\n",
              "                                                   'TimeToSubway',\n",
              "                                                   'SubwayStation'])])),\n",
              "                ('scaler', RobustScaler()),\n",
              "                ('model',\n",
              "                 RandomForestRegressor(criterion='absolute_error', max_depth=15,\n",
              "                                       max_features=5, min_samples_leaf=2,\n",
              "                                       min_samples_split=10, n_estimators=270,\n",
              "                                       random_state=0))])"
            ]
          },
          "execution_count": 46,
          "metadata": {},
          "output_type": "execute_result"
        }
      ],
      "source": [
        "# fitting\n",
        "final_model.fit(X_train, y_train)"
      ]
    },
    {
      "cell_type": "code",
      "execution_count": 47,
      "metadata": {
        "id": "APTHLh0P_5pN"
      },
      "outputs": [],
      "source": [
        "# predict\n",
        "y_pred_final = final_model.predict(X_test)"
      ]
    },
    {
      "cell_type": "code",
      "execution_count": 48,
      "metadata": {
        "colab": {
          "base_uri": "https://localhost:8080/",
          "height": 81
        },
        "id": "dJElLzJHAD5n",
        "outputId": "e107502a-8b94-4716-d261-6000b16fccdd"
      },
      "outputs": [
        {
          "data": {
            "text/html": [
              "<div>\n",
              "<style scoped>\n",
              "    .dataframe tbody tr th:only-of-type {\n",
              "        vertical-align: middle;\n",
              "    }\n",
              "\n",
              "    .dataframe tbody tr th {\n",
              "        vertical-align: top;\n",
              "    }\n",
              "\n",
              "    .dataframe thead th {\n",
              "        text-align: right;\n",
              "    }\n",
              "</style>\n",
              "<table border=\"1\" class=\"dataframe\">\n",
              "  <thead>\n",
              "    <tr style=\"text-align: right;\">\n",
              "      <th></th>\n",
              "      <th>RMSE</th>\n",
              "      <th>MAE</th>\n",
              "      <th>MAPE</th>\n",
              "    </tr>\n",
              "  </thead>\n",
              "  <tbody>\n",
              "    <tr>\n",
              "      <th>0</th>\n",
              "      <td>50095.610406</td>\n",
              "      <td>37657.193147</td>\n",
              "      <td>0.185205</td>\n",
              "    </tr>\n",
              "  </tbody>\n",
              "</table>\n",
              "</div>"
            ],
            "text/plain": [
              "           RMSE           MAE      MAPE\n",
              "0  50095.610406  37657.193147  0.185205"
            ]
          },
          "execution_count": 48,
          "metadata": {},
          "output_type": "execute_result"
        }
      ],
      "source": [
        "# Metric evaluation\n",
        "mse = mean_squared_error(y_test, y_pred_final)\n",
        "rmse = np.sqrt(mse)\n",
        "mae = mean_absolute_error(y_test, y_pred_final)\n",
        "mape = mean_absolute_percentage_error(y_test, y_pred_final)\n",
        "\n",
        "after_tuning = pd.DataFrame({'RMSE': rmse, 'MAE': mae, 'MAPE': mape},index=[0])\n",
        "after_tuning\n"
      ]
    },
    {
      "cell_type": "markdown",
      "metadata": {
        "id": "jBMhWeA4cq33"
      },
      "source": [
        "#### **Performance Comparison**"
      ]
    },
    {
      "cell_type": "code",
      "execution_count": 49,
      "metadata": {
        "colab": {
          "base_uri": "https://localhost:8080/",
          "height": 81
        },
        "id": "KECNVjqMcyQv",
        "outputId": "ee18cbd6-87bd-40b4-b183-c09bcfa73b92"
      },
      "outputs": [
        {
          "data": {
            "text/html": [
              "<div>\n",
              "<style scoped>\n",
              "    .dataframe tbody tr th:only-of-type {\n",
              "        vertical-align: middle;\n",
              "    }\n",
              "\n",
              "    .dataframe tbody tr th {\n",
              "        vertical-align: top;\n",
              "    }\n",
              "\n",
              "    .dataframe thead th {\n",
              "        text-align: right;\n",
              "    }\n",
              "</style>\n",
              "<table border=\"1\" class=\"dataframe\">\n",
              "  <thead>\n",
              "    <tr style=\"text-align: right;\">\n",
              "      <th></th>\n",
              "      <th>RMSE</th>\n",
              "      <th>MAE</th>\n",
              "      <th>MAPE</th>\n",
              "    </tr>\n",
              "  </thead>\n",
              "  <tbody>\n",
              "    <tr>\n",
              "      <th>0</th>\n",
              "      <td>51297.16533</td>\n",
              "      <td>38812.506978</td>\n",
              "      <td>0.193426</td>\n",
              "    </tr>\n",
              "  </tbody>\n",
              "</table>\n",
              "</div>"
            ],
            "text/plain": [
              "          RMSE           MAE      MAPE\n",
              "0  51297.16533  38812.506978  0.193426"
            ]
          },
          "execution_count": 49,
          "metadata": {},
          "output_type": "execute_result"
        }
      ],
      "source": [
        "# Sebelum hyperparameter tuning\n",
        "\n",
        "before_tuning"
      ]
    },
    {
      "cell_type": "code",
      "execution_count": 50,
      "metadata": {
        "colab": {
          "base_uri": "https://localhost:8080/",
          "height": 81
        },
        "id": "cE7BjfpFkqbq",
        "outputId": "3515d9c5-3c4e-4db2-e2b7-91cf5e539c95"
      },
      "outputs": [
        {
          "data": {
            "text/html": [
              "<div>\n",
              "<style scoped>\n",
              "    .dataframe tbody tr th:only-of-type {\n",
              "        vertical-align: middle;\n",
              "    }\n",
              "\n",
              "    .dataframe tbody tr th {\n",
              "        vertical-align: top;\n",
              "    }\n",
              "\n",
              "    .dataframe thead th {\n",
              "        text-align: right;\n",
              "    }\n",
              "</style>\n",
              "<table border=\"1\" class=\"dataframe\">\n",
              "  <thead>\n",
              "    <tr style=\"text-align: right;\">\n",
              "      <th></th>\n",
              "      <th>RMSE</th>\n",
              "      <th>MAE</th>\n",
              "      <th>MAPE</th>\n",
              "    </tr>\n",
              "  </thead>\n",
              "  <tbody>\n",
              "    <tr>\n",
              "      <th>0</th>\n",
              "      <td>50095.610406</td>\n",
              "      <td>37657.193147</td>\n",
              "      <td>0.185205</td>\n",
              "    </tr>\n",
              "  </tbody>\n",
              "</table>\n",
              "</div>"
            ],
            "text/plain": [
              "           RMSE           MAE      MAPE\n",
              "0  50095.610406  37657.193147  0.185205"
            ]
          },
          "execution_count": 50,
          "metadata": {},
          "output_type": "execute_result"
        }
      ],
      "source": [
        "# Sebelum hyperparameter tuning\n",
        "\n",
        "after_tuning"
      ]
    },
    {
      "cell_type": "markdown",
      "metadata": {
        "id": "pQOJP0bclSmB"
      },
      "source": [
        "Model mengalami peningkatan performa dengan dilakukan hyperparameter tuning selama 2 kali\n",
        "\n",
        "- RMSE, MAE & MAPE sebelum tuning: 51297.16, 38812.50, 0.19\n",
        "- RMSE, MAE & MAPE setelah tuning: 49788.19, 37530.40, 0.18"
      ]
    },
    {
      "cell_type": "markdown",
      "metadata": {},
      "source": [
        "**Nilai MAPE yang didapat yaitu 18% menjadikan model ini dapat dikategorikan ke dalam 'Good Forecasting' (Lewis, 1982)**\n",
        "\n",
        "*Source: Lewis, C. D. (1982). Industrial and business forecasting methods: A practical guide to exponential smoothing and curve fitting*"
      ]
    },
    {
      "cell_type": "code",
      "execution_count": 51,
      "metadata": {
        "colab": {
          "base_uri": "https://localhost:8080/",
          "height": 312
        },
        "id": "kAUpjp7QODw_",
        "outputId": "87b78d6e-0016-493d-caf0-5b697fdcd95a"
      },
      "outputs": [
        {
          "data": {
            "text/plain": [
              "Text(0.5, 1.0, 'Residual Plot')"
            ]
          },
          "execution_count": 51,
          "metadata": {},
          "output_type": "execute_result"
        },
        {
          "data": {
            "image/png": "[encoded data removed]",
            "text/plain": [
              "<Figure size 432x288 with 1 Axes>"
            ]
          },
          "metadata": {
            "needs_background": "light"
          },
          "output_type": "display_data"
        }
      ],
      "source": [
        "sns.scatterplot(x=y_test, y=(y_test-y_pred_final))\n",
        "sns.lineplot(x=y_test, y=0, color='red')\n",
        "plt.title('Residual Plot')"
      ]
    },
    {
      "cell_type": "markdown",
      "metadata": {
        "id": "meBiNisTtE08"
      },
      "source": [
        "Dari scatterplot diatas kita bisa melihat bahwa semakin tinggi nilai prediksinya, errornya juga semakin besar."
      ]
    },
    {
      "cell_type": "markdown",
      "metadata": {
        "id": "H_JfxQRpRaDU"
      },
      "source": [
        "#### **Feature Importances**\n",
        "\n",
        "Disini kita dapat melihat fitur apa saja yang sangat mempengaruhi target yaitu 'SalePrice'."
      ]
    },
    {
      "cell_type": "code",
      "execution_count": 52,
      "metadata": {
        "colab": {
          "base_uri": "https://localhost:8080/"
        },
        "id": "IOKL_5WMSd6i",
        "outputId": "c22a0339-8ffd-4c38-c5ee-2ad5624ebf1b"
      },
      "outputs": [
        {
          "data": {
            "text/plain": [
              "array([0.01780633, 0.13402369, 0.00643326, 0.00451208, 0.0063869 ,\n",
              "       0.00119291, 0.0052758 , 0.00195272, 0.00127894, 0.00801823,\n",
              "       0.00224468, 0.00310951, 0.00267682, 0.06099733, 0.04161148,\n",
              "       0.02627633, 0.11179802, 0.12243584, 0.10944882, 0.33252032])"
            ]
          },
          "execution_count": 52,
          "metadata": {},
          "output_type": "execute_result"
        }
      ],
      "source": [
        "final_model['model'].feature_importances_"
      ]
    },
    {
      "cell_type": "code",
      "execution_count": 53,
      "metadata": {
        "colab": {
          "base_uri": "https://localhost:8080/"
        },
        "id": "7FsEejt3SivH",
        "outputId": "54708122-4a46-41c9-a2c8-01f31f8506ff"
      },
      "outputs": [
        {
          "data": {
            "text/plain": [
              "array(['onehot__HallwayType_mixed', 'onehot__HallwayType_terraced',\n",
              "       'onehot__TimeToSubway_10min~15min',\n",
              "       'onehot__TimeToSubway_15min~20min',\n",
              "       'onehot__TimeToSubway_5min~10min',\n",
              "       'onehot__TimeToSubway_no_bus_stop_nearby',\n",
              "       'onehot__SubwayStation_Banwoldang',\n",
              "       'onehot__SubwayStation_Chil-sung-market',\n",
              "       'onehot__SubwayStation_Daegu',\n",
              "       'onehot__SubwayStation_Kyungbuk_uni_hospital',\n",
              "       'onehot__SubwayStation_Myung-duk', 'onehot__SubwayStation_Sin-nam',\n",
              "       'onehot__SubwayStation_no_subway_nearby',\n",
              "       'remainder__N_FacilitiesNearBy(ETC)',\n",
              "       'remainder__N_FacilitiesNearBy(PublicOffice)',\n",
              "       'remainder__N_SchoolNearBy(University)',\n",
              "       'remainder__N_Parkinglot(Basement)', 'remainder__YearBuilt',\n",
              "       'remainder__N_FacilitiesInApt', 'remainder__Size(sqf)'],\n",
              "      dtype=object)"
            ]
          },
          "execution_count": 53,
          "metadata": {},
          "output_type": "execute_result"
        }
      ],
      "source": [
        "transformer.get_feature_names_out()"
      ]
    },
    {
      "cell_type": "code",
      "execution_count": 54,
      "metadata": {
        "colab": {
          "base_uri": "https://localhost:8080/",
          "height": 281
        },
        "id": "pPP80amrXDVh",
        "outputId": "4a84f6c0-526a-46fb-8840-cc33177ad67c"
      },
      "outputs": [
        {
          "data": {
            "image/png": "[encoded data removed]",
            "text/plain": [
              "<Figure size 432x288 with 1 Axes>"
            ]
          },
          "metadata": {
            "needs_background": "light"
          },
          "output_type": "display_data"
        }
      ],
      "source": [
        "# Plot feature importances\n",
        "\n",
        "feature_imp = pd.Series(final_model['model'].feature_importances_, transformer.get_feature_names()).sort_values(ascending = False).head()\n",
        "feature_imp.plot(kind='barh', title='Feature Importances');"
      ]
    },
    {
      "cell_type": "markdown",
      "metadata": {
        "id": "O8uipbjzVl_F"
      },
      "source": [
        "## **Conclusion**"
      ]
    },
    {
      "cell_type": "markdown",
      "metadata": {},
      "source": [
        "Berdasarkan model diatas, fitur 'Size(sqf)' menjadi fitur yang paling berpengaruh terhadap target yaitu 'Saleprice'. Metrik evaluasi yang digunakan pada model yaitu RMSE, MAE & MAPE. Jika ditinjau dari MAE, model machine learning ini memiliki nilai error 37530.40 (USD) dan jika dilihat dari MAPE atau persentase errornya yaitu 18%. Dengan nilai MAPE tersebut kita bisa mengatakan prediksi kita lumayan bagus. Pada model ini juga semakin tinggi nilai prediksinya semakin tinggi juga nilai errornya. Error yang dihasilkan pada model ini juga bisa dikarenakan oleh kurangnya fitur pada dataset yang kita punya."
      ]
    },
    {
      "cell_type": "markdown",
      "metadata": {
        "id": "sOLbtMDOSXVv"
      },
      "source": [
        "## **Recommendation**"
      ]
    },
    {
      "cell_type": "markdown",
      "metadata": {},
      "source": [
        "Hal-hal yang dapat dilakukan agar model lebih baik yaitu:\n",
        "- Menambahkan fitur pada dataset, contohnya seperti biaya maintenance perbulan, demografi & psikografi masyarakat kawasan apartemen, dan lain-lain\n",
        "- Menambahkan jumlah data pada dataset ini\n",
        "- Mengecek prediksi mana saja yang memiliki nilai error yang tinggi"
      ]
    },
    {
      "cell_type": "markdown",
      "metadata": {},
      "source": [
        "#### **Save Model**"
      ]
    },
    {
      "cell_type": "code",
      "execution_count": 55,
      "metadata": {},
      "outputs": [],
      "source": [
        "# Save model\n",
        "import pickle\n",
        "\n",
        "estimator = Pipeline([('preprocess', transformer), ('rf', RandomForestRegressor())])\n",
        "estimator.fit(X_train, y_train)\n",
        "\n",
        "pickle.dump(estimator, open('data_daegu_apartment.sav', 'wb'))"
      ]
    },
    {
      "cell_type": "code",
      "execution_count": 56,
      "metadata": {},
      "outputs": [],
      "source": [
        "# Load model\n",
        "\n",
        "filename = 'data_daegu_apartment.sav'\n",
        "loaded_model = pickle.load(open(filename, 'rb'))"
      ]
    }
  ],
  "metadata": {
    "colab": {
      "collapsed_sections": [],
      "provenance": []
    },
    "kernelspec": {
      "display_name": "Python 3.10.5 64-bit",
      "language": "python",
      "name": "python3"
    },
    "language_info": {
      "codemirror_mode": {
        "name": "ipython",
        "version": 3
      },
      "file_extension": ".py",
      "mimetype": "text/x-python",
      "name": "python",
      "nbconvert_exporter": "python",
      "pygments_lexer": "ipython3",
      "version": "3.10.5"
    },
    "vscode": {
      "interpreter": {
        "hash": "19a357f9df30cbba1cb091f2360861bbf9e29ecaa4cb1c9a51cf7eeba6e94f93"
      }
    }
  },
  "nbformat": 4,
  "nbformat_minor": 0
}
